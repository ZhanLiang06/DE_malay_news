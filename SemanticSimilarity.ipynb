{
 "cells": [
  {
   "cell_type": "code",
   "execution_count": 1,
   "id": "a783b65a-4e36-464e-8838-1eb1e5eef14d",
   "metadata": {},
   "outputs": [
    {
     "name": "stdout",
     "output_type": "stream",
     "text": [
      "CPU times: user 5.39 s, sys: 649 ms, total: 6.04 s\n",
      "Wall time: 7.39 s\n"
     ]
    },
    {
     "name": "stderr",
     "output_type": "stream",
     "text": [
      "/home/student/de-prj/de-venv/lib/python3.10/site-packages/malaya/tokenizer.py:214: FutureWarning: Possible nested set at position 3397\n",
      "  self.tok = re.compile(r'({})'.format('|'.join(pipeline)))\n",
      "/home/student/de-prj/de-venv/lib/python3.10/site-packages/malaya/tokenizer.py:214: FutureWarning: Possible nested set at position 3927\n",
      "  self.tok = re.compile(r'({})'.format('|'.join(pipeline)))\n"
     ]
    }
   ],
   "source": [
    "%%time\n",
    "import malaya\n",
    "import os\n",
    "from typing import List\n",
    "import logging\n",
    "\n",
    "logging.basicConfig(level=logging.INFO)\n",
    "os.environ['CUDA_VISIBLE_DEVICES'] = ''\n",
    "os.environ['TF_FORCE_GPU_ALLOW_GROWTH'] = 'true'"
   ]
  },
  {
   "cell_type": "code",
   "execution_count": 2,
   "id": "79165752-acc7-4df4-8e23-5c31452e3d1b",
   "metadata": {},
   "outputs": [],
   "source": [
    "word1 = 'anjing' \n",
    "word2 = 'binatang'"
   ]
  },
  {
   "cell_type": "code",
   "execution_count": 3,
   "id": "5b78a3c1-4f4b-44b9-bb83-a767dbffd93f",
   "metadata": {},
   "outputs": [],
   "source": [
    "word3 = 'tayar' \n",
    "word4 = 'kereta'"
   ]
  },
  {
   "cell_type": "code",
   "execution_count": 4,
   "id": "026d97e7-1bc1-4045-accf-b78c90835493",
   "metadata": {},
   "outputs": [
    {
     "data": {
      "text/plain": [
       "{'mesolitica/finetune-mnli-nanot5-small': {'Size (MB)': 148,\n",
       "  'macro precision': 0.87125,\n",
       "  'macro recall': 0.87131,\n",
       "  'macro f1-score': 0.87127},\n",
       " 'mesolitica/finetune-mnli-nanot5-base': {'Size (MB)': 892,\n",
       "  'macro precision': 0.78903,\n",
       "  'macro recall': 0.79064,\n",
       "  'macro f1-score': 0.78918}}"
      ]
     },
     "execution_count": 4,
     "metadata": {},
     "output_type": "execute_result"
    }
   ],
   "source": [
    "malaya.similarity.semantic.available_huggingface"
   ]
  },
  {
   "cell_type": "code",
   "execution_count": 5,
   "id": "7e480927-e011-47f6-a787-b5aa66766532",
   "metadata": {},
   "outputs": [
    {
     "name": "stdout",
     "output_type": "stream",
     "text": [
      "tested on matched dev set translated MNLI, https://huggingface.co/datasets/mesolitica/translated-MNLI\n"
     ]
    }
   ],
   "source": [
    "print(malaya.similarity.semantic.info)"
   ]
  },
  {
   "cell_type": "code",
   "execution_count": 6,
   "id": "b3007c96-08ac-45ea-8928-ca4325e93a7a",
   "metadata": {},
   "outputs": [],
   "source": [
    "model = malaya.similarity.semantic.huggingface()"
   ]
  },
  {
   "cell_type": "code",
   "execution_count": 7,
   "id": "b64d1c75-8b84-42cd-9cb6-0ddc1a663b50",
   "metadata": {},
   "outputs": [
    {
     "name": "stderr",
     "output_type": "stream",
     "text": [
      "You're using a PreTrainedTokenizerFast tokenizer. Please note that with a fast tokenizer, using the `__call__` method is faster than using a method to encode the text followed by a call to the `pad` method to get a padded encoding.\n"
     ]
    },
    {
     "data": {
      "text/plain": [
       "array([0.98032975, 0.11124969], dtype=float32)"
      ]
     },
     "execution_count": 7,
     "metadata": {},
     "output_type": "execute_result"
    }
   ],
   "source": [
    "model.predict_proba([word1, word1], [word2, word3])"
   ]
  }
 ],
 "metadata": {
  "kernelspec": {
   "display_name": "de-venv",
   "language": "python",
   "name": "de-venv"
  },
  "language_info": {
   "codemirror_mode": {
    "name": "ipython",
    "version": 3
   },
   "file_extension": ".py",
   "mimetype": "text/x-python",
   "name": "python",
   "nbconvert_exporter": "python",
   "pygments_lexer": "ipython3",
   "version": "3.10.12"
  }
 },
 "nbformat": 4,
 "nbformat_minor": 5
}
