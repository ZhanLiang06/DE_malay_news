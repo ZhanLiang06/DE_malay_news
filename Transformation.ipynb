{
 "cells": [
  {
   "cell_type": "code",
   "execution_count": 1,
   "id": "55133386-a017-4783-8a94-56da3ac81c2e",
   "metadata": {},
   "outputs": [
    {
     "name": "stderr",
     "output_type": "stream",
     "text": [
      "/home/student/de-prj/de-venv/lib/python3.10/site-packages/tqdm/auto.py:21: TqdmWarning: IProgress not found. Please update jupyter and ipywidgets. See https://ipywidgets.readthedocs.io/en/stable/user_install.html\n",
      "  from .autonotebook import tqdm as notebook_tqdm\n",
      "/home/student/de-prj/de-venv/lib/python3.10/site-packages/malaya/tokenizer.py:214: FutureWarning: Possible nested set at position 3397\n",
      "  self.tok = re.compile(r'({})'.format('|'.join(pipeline)))\n",
      "/home/student/de-prj/de-venv/lib/python3.10/site-packages/malaya/tokenizer.py:214: FutureWarning: Possible nested set at position 3927\n",
      "  self.tok = re.compile(r'({})'.format('|'.join(pipeline)))\n",
      "24/12/14 22:09:16 WARN Utils: Your hostname, Liang. resolves to a loopback address: 127.0.1.1; using 10.255.255.254 instead (on interface lo)\n",
      "24/12/14 22:09:16 WARN Utils: Set SPARK_LOCAL_IP if you need to bind to another address\n",
      "24/12/14 22:09:16 WARN NativeCodeLoader: Unable to load native-hadoop library for your platform... using builtin-java classes where applicable\n",
      "24/12/14 22:09:17 WARN Utils: Service 'SparkUI' could not bind on port 4040. Attempting port 4041.\n",
      "[Stage 4:>                                                          (0 + 1) / 1]/home/student/de-prj/de-venv/lib/python3.10/site-packages/malaya/tokenizer.py:214: FutureWarning: Possible nested set at position 3397\n",
      "  self.tok = re.compile(r'({})'.format('|'.join(pipeline)))\n",
      "/home/student/de-prj/de-venv/lib/python3.10/site-packages/malaya/tokenizer.py:214: FutureWarning: Possible nested set at position 3927\n",
      "  self.tok = re.compile(r'({})'.format('|'.join(pipeline)))\n",
      "                                                                                "
     ]
    }
   ],
   "source": [
    "from pyspark.sql import SparkSession\n",
    "from PyClasses.Transformation import DE_Transformation\n",
    "# Run Transformation\n",
    "spark = SparkSession.builder.appName(\"DE-prj\").getOrCreate()\n",
    "try:\n",
    "    transformation = DE_Transformation(spark)\n",
    "    cleanned_sentences, words = transformation.start_transform_rawdata()\n",
    "finally:\n",
    "    spark.stop()"
   ]
  },
  {
   "cell_type": "code",
   "execution_count": 2,
   "id": "03c8d5a1-fccf-4f42-a7bd-05d1f24e1393",
   "metadata": {},
   "outputs": [
    {
     "name": "stdout",
     "output_type": "stream",
     "text": [
      "Deleted hdfs://localhost:9000/user/student/DE-prj/MR_WC_Result\n",
      "['/home/hduser/hadoop3/bin/hadoop', 'jar', '/home/hduser/hadoop3/share/hadoop/tools/lib/hadoop-streaming-3.3.6.jar', '-input', 'hdfs://localhost:9000/user/student/DE-prj/Words/part-00000-891688e7-bdb7-4072-9bcd-605012f083f1-c000.txt,hdfs://localhost:9000/user/student/DE-prj/Words/part-00001-891688e7-bdb7-4072-9bcd-605012f083f1-c000.txt,hdfs://localhost:9000/user/student/DE-prj/Words/part-00002-891688e7-bdb7-4072-9bcd-605012f083f1-c000.txt,hdfs://localhost:9000/user/student/DE-prj/Words/part-00003-891688e7-bdb7-4072-9bcd-605012f083f1-c000.txt,hdfs://localhost:9000/user/student/DE-prj/Words/part-00004-891688e7-bdb7-4072-9bcd-605012f083f1-c000.txt,hdfs://localhost:9000/user/student/DE-prj/Words/part-00005-891688e7-bdb7-4072-9bcd-605012f083f1-c000.txt,hdfs://localhost:9000/user/student/DE-prj/Words/part-00006-891688e7-bdb7-4072-9bcd-605012f083f1-c000.txt,hdfs://localhost:9000/user/student/DE-prj/Words/part-00007-891688e7-bdb7-4072-9bcd-605012f083f1-c000.txt,hdfs://localhost:9000/user/student/DE-prj/Words/part-00008-891688e7-bdb7-4072-9bcd-605012f083f1-c000.txt,hdfs://localhost:9000/user/student/DE-prj/Words/part-00009-891688e7-bdb7-4072-9bcd-605012f083f1-c000.txt,hdfs://localhost:9000/user/student/DE-prj/Words/part-00010-891688e7-bdb7-4072-9bcd-605012f083f1-c000.txt,hdfs://localhost:9000/user/student/DE-prj/Words/part-00011-891688e7-bdb7-4072-9bcd-605012f083f1-c000.txt', '-output', 'hdfs://localhost:9000/user/student/DE-prj/MR_WC_Result', '-mapper', 'PyClasses/MapReduce/WordCount/mapper.py', '-reducer', 'PyClasses/MapReduce/WordCount/reducer.py', '-file', 'PyClasses/MapReduce/WordCount/mapper.py', '-file', 'PyClasses/MapReduce/WordCount/reducer.py']\n",
      "Hadoop Streaming Command Output:\n",
      "packageJobJar: [PyClasses/MapReduce/WordCount/mapper.py, PyClasses/MapReduce/WordCount/reducer.py, /tmp/hadoop-unjar1815463297351183444/] [] /tmp/streamjob4005230066245891331.jar tmpDir=null\n",
      "\n"
     ]
    }
   ],
   "source": [
    "from PyClasses.Transformation import DE_Transformation\n",
    "filePaths = DE_Transformation.wordCountMapReduce()\n",
    "#output at dir = 'hdfs://localhost:9000/user/student/DE-prj/MR_WC_Result/part-00000'"
   ]
  }
 ],
 "metadata": {
  "kernelspec": {
   "display_name": "de-venv",
   "language": "python",
   "name": "de-venv"
  },
  "language_info": {
   "codemirror_mode": {
    "name": "ipython",
    "version": 3
   },
   "file_extension": ".py",
   "mimetype": "text/x-python",
   "name": "python",
   "nbconvert_exporter": "python",
   "pygments_lexer": "ipython3",
   "version": "3.10.12"
  }
 },
 "nbformat": 4,
 "nbformat_minor": 5
}
