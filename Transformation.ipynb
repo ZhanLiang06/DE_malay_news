{
 "cells": [
  {
   "cell_type": "code",
   "execution_count": 1,
   "id": "55133386-a017-4783-8a94-56da3ac81c2e",
   "metadata": {
    "scrolled": true
   },
   "outputs": [
    {
     "name": "stderr",
     "output_type": "stream",
     "text": [
      "/home/student/de-prj/de-venv/lib/python3.10/site-packages/tqdm/auto.py:21: TqdmWarning: IProgress not found. Please update jupyter and ipywidgets. See https://ipywidgets.readthedocs.io/en/stable/user_install.html\n",
      "  from .autonotebook import tqdm as notebook_tqdm\n",
      "/home/student/de-prj/de-venv/lib/python3.10/site-packages/malaya/tokenizer.py:214: FutureWarning: Possible nested set at position 3397\n",
      "  self.tok = re.compile(r'({})'.format('|'.join(pipeline)))\n",
      "/home/student/de-prj/de-venv/lib/python3.10/site-packages/malaya/tokenizer.py:214: FutureWarning: Possible nested set at position 3927\n",
      "  self.tok = re.compile(r'({})'.format('|'.join(pipeline)))\n",
      "24/12/16 23:05:25 WARN Utils: Your hostname, LoopZi. resolves to a loopback address: 127.0.1.1; using 10.255.255.254 instead (on interface lo)\n",
      "24/12/16 23:05:25 WARN Utils: Set SPARK_LOCAL_IP if you need to bind to another address\n",
      "24/12/16 23:05:25 WARN NativeCodeLoader: Unable to load native-hadoop library for your platform... using builtin-java classes where applicable\n",
      "24/12/16 23:05:26 WARN Utils: Service 'SparkUI' could not bind on port 4040. Attempting port 4041.\n",
      "24/12/16 23:05:26 WARN Utils: Service 'SparkUI' could not bind on port 4041. Attempting port 4042.\n",
      "[Stage 4:>                                                          (0 + 1) / 1]/home/student/de-prj/de-venv/lib/python3.10/site-packages/malaya/tokenizer.py:214: FutureWarning: Possible nested set at position 3397\n",
      "  self.tok = re.compile(r'({})'.format('|'.join(pipeline)))\n",
      "/home/student/de-prj/de-venv/lib/python3.10/site-packages/malaya/tokenizer.py:214: FutureWarning: Possible nested set at position 3927\n",
      "  self.tok = re.compile(r'({})'.format('|'.join(pipeline)))\n",
      "                                                                                "
     ]
    }
   ],
   "source": [
    "from pyspark.sql import SparkSession\n",
    "from PyClasses.Processes.Transformation import DE_Transformation\n",
    "# Run Transformation\n",
    "spark = SparkSession.builder.appName(\"DE-prj\").getOrCreate()\n",
    "\n",
    "transformation = DE_Transformation(spark)\n",
    "cleanned_sentences, words = transformation.start_transform_rawdata()"
   ]
  },
  {
   "cell_type": "code",
   "execution_count": 2,
   "id": "03c8d5a1-fccf-4f42-a7bd-05d1f24e1393",
   "metadata": {},
   "outputs": [
    {
     "name": "stderr",
     "output_type": "stream",
     "text": [
      "rm: `hdfs://localhost:9000/user/student/DE-prj/MR_WC_Result': No such file or directory\n"
     ]
    },
    {
     "name": "stdout",
     "output_type": "stream",
     "text": [
      "['/home/hduser/hadoop3/bin/hadoop', 'jar', '/home/hduser/hadoop3/share/hadoop/tools/lib/hadoop-streaming-3.3.6.jar', '-input', 'hdfs://localhost:9000/user/student/DE-prj/Words/part-00000-e028381a-45e4-4485-816c-b0cd23b6097f-c000.txt,hdfs://localhost:9000/user/student/DE-prj/Words/part-00001-e028381a-45e4-4485-816c-b0cd23b6097f-c000.txt,hdfs://localhost:9000/user/student/DE-prj/Words/part-00002-e028381a-45e4-4485-816c-b0cd23b6097f-c000.txt,hdfs://localhost:9000/user/student/DE-prj/Words/part-00003-e028381a-45e4-4485-816c-b0cd23b6097f-c000.txt,hdfs://localhost:9000/user/student/DE-prj/Words/part-00004-e028381a-45e4-4485-816c-b0cd23b6097f-c000.txt,hdfs://localhost:9000/user/student/DE-prj/Words/part-00005-e028381a-45e4-4485-816c-b0cd23b6097f-c000.txt,hdfs://localhost:9000/user/student/DE-prj/Words/part-00006-e028381a-45e4-4485-816c-b0cd23b6097f-c000.txt,hdfs://localhost:9000/user/student/DE-prj/Words/part-00007-e028381a-45e4-4485-816c-b0cd23b6097f-c000.txt,hdfs://localhost:9000/user/student/DE-prj/Words/part-00008-e028381a-45e4-4485-816c-b0cd23b6097f-c000.txt,hdfs://localhost:9000/user/student/DE-prj/Words/part-00009-e028381a-45e4-4485-816c-b0cd23b6097f-c000.txt,hdfs://localhost:9000/user/student/DE-prj/Words/part-00010-e028381a-45e4-4485-816c-b0cd23b6097f-c000.txt,hdfs://localhost:9000/user/student/DE-prj/Words/part-00011-e028381a-45e4-4485-816c-b0cd23b6097f-c000.txt,hdfs://localhost:9000/user/student/DE-prj/Words/part-00012-e028381a-45e4-4485-816c-b0cd23b6097f-c000.txt,hdfs://localhost:9000/user/student/DE-prj/Words/part-00013-e028381a-45e4-4485-816c-b0cd23b6097f-c000.txt,hdfs://localhost:9000/user/student/DE-prj/Words/part-00014-e028381a-45e4-4485-816c-b0cd23b6097f-c000.txt,hdfs://localhost:9000/user/student/DE-prj/Words/part-00015-e028381a-45e4-4485-816c-b0cd23b6097f-c000.txt,hdfs://localhost:9000/user/student/DE-prj/Words/part-00016-e028381a-45e4-4485-816c-b0cd23b6097f-c000.txt,hdfs://localhost:9000/user/student/DE-prj/Words/part-00017-e028381a-45e4-4485-816c-b0cd23b6097f-c000.txt', '-output', 'hdfs://localhost:9000/user/student/DE-prj/MR_WC_Result', '-mapper', 'PyClasses/MapReduce/WordCount/mapper.py', '-reducer', 'PyClasses/MapReduce/WordCount/reducer.py', '-file', 'PyClasses/MapReduce/WordCount/mapper.py', '-file', 'PyClasses/MapReduce/WordCount/reducer.py']\n",
      "Hadoop Streaming Command Output:\n",
      "packageJobJar: [PyClasses/MapReduce/WordCount/mapper.py, PyClasses/MapReduce/WordCount/reducer.py, /tmp/hadoop-unjar4074335801213541171/] [] /tmp/streamjob3512239517385239979.jar tmpDir=null\n",
      "\n"
     ]
    }
   ],
   "source": [
    "from PyClasses.Processes.Transformation import DE_Transformation\n",
    "filePaths = DE_Transformation.wordCountMapReduce()\n",
    "#output at dir = 'hdfs://localhost:9000/user/student/DE-prj/MR_WC_Result/part-00000'"
   ]
  }
 ],
 "metadata": {
  "kernelspec": {
   "display_name": "de-venv",
   "language": "python",
   "name": "de-venv"
  },
  "language_info": {
   "codemirror_mode": {
    "name": "ipython",
    "version": 3
   },
   "file_extension": ".py",
   "mimetype": "text/x-python",
   "name": "python",
   "nbconvert_exporter": "python",
   "pygments_lexer": "ipython3",
   "version": "3.10.12"
  }
 },
 "nbformat": 4,
 "nbformat_minor": 5
}
