{
 "cells": [
  {
   "cell_type": "code",
   "execution_count": 1,
   "id": "e7910708-4552-4ad9-87df-171715b0a769",
   "metadata": {},
   "outputs": [
    {
     "name": "stderr",
     "output_type": "stream",
     "text": [
      "/home/student/de-prj/de-venv/lib/python3.10/site-packages/malaya/tokenizer.py:214: FutureWarning: Possible nested set at position 3397\n",
      "  self.tok = re.compile(r'({})'.format('|'.join(pipeline)))\n",
      "/home/student/de-prj/de-venv/lib/python3.10/site-packages/malaya/tokenizer.py:214: FutureWarning: Possible nested set at position 3927\n",
      "  self.tok = re.compile(r'({})'.format('|'.join(pipeline)))\n",
      "24/12/19 20:15:11 WARN Utils: Your hostname, Liang. resolves to a loopback address: 127.0.1.1; using 10.255.255.254 instead (on interface lo)\n",
      "24/12/19 20:15:11 WARN Utils: Set SPARK_LOCAL_IP if you need to bind to another address\n",
      "24/12/19 20:15:11 WARN NativeCodeLoader: Unable to load native-hadoop library for your platform... using builtin-java classes where applicable\n",
      "[Stage 4:>                                                          (0 + 1) / 1]/home/student/de-prj/de-venv/lib/python3.10/site-packages/malaya/tokenizer.py:214: FutureWarning: Possible nested set at position 3397\n",
      "  self.tok = re.compile(r'({})'.format('|'.join(pipeline)))\n",
      "/home/student/de-prj/de-venv/lib/python3.10/site-packages/malaya/tokenizer.py:214: FutureWarning: Possible nested set at position 3927\n",
      "  self.tok = re.compile(r'({})'.format('|'.join(pipeline)))\n",
      "                                                                                "
     ]
    },
    {
     "name": "stdout",
     "output_type": "stream",
     "text": [
      "Deleted hdfs://localhost:9000/user/student/DE-prj/MR_WC_Result\n",
      "['/home/hduser/hadoop3/bin/hadoop', 'jar', '/home/hduser/hadoop3/share/hadoop/tools/lib/hadoop-streaming-3.3.6.jar', '-input', 'hdfs://localhost:9000/user/student/DE-prj/Words/part-00000-c1d90a9e-51e8-49da-9900-5c718377c339-c000.txt,hdfs://localhost:9000/user/student/DE-prj/Words/part-00001-c1d90a9e-51e8-49da-9900-5c718377c339-c000.txt,hdfs://localhost:9000/user/student/DE-prj/Words/part-00002-c1d90a9e-51e8-49da-9900-5c718377c339-c000.txt,hdfs://localhost:9000/user/student/DE-prj/Words/part-00003-c1d90a9e-51e8-49da-9900-5c718377c339-c000.txt,hdfs://localhost:9000/user/student/DE-prj/Words/part-00004-c1d90a9e-51e8-49da-9900-5c718377c339-c000.txt,hdfs://localhost:9000/user/student/DE-prj/Words/part-00005-c1d90a9e-51e8-49da-9900-5c718377c339-c000.txt,hdfs://localhost:9000/user/student/DE-prj/Words/part-00006-c1d90a9e-51e8-49da-9900-5c718377c339-c000.txt,hdfs://localhost:9000/user/student/DE-prj/Words/part-00007-c1d90a9e-51e8-49da-9900-5c718377c339-c000.txt,hdfs://localhost:9000/user/student/DE-prj/Words/part-00008-c1d90a9e-51e8-49da-9900-5c718377c339-c000.txt,hdfs://localhost:9000/user/student/DE-prj/Words/part-00009-c1d90a9e-51e8-49da-9900-5c718377c339-c000.txt,hdfs://localhost:9000/user/student/DE-prj/Words/part-00010-c1d90a9e-51e8-49da-9900-5c718377c339-c000.txt,hdfs://localhost:9000/user/student/DE-prj/Words/part-00011-c1d90a9e-51e8-49da-9900-5c718377c339-c000.txt', '-output', 'hdfs://localhost:9000/user/student/DE-prj/MR_WC_Result', '-mapper', 'MapReduce/WordCount/mapper.py', '-reducer', 'MapReduce/WordCount/reducer.py', '-file', 'MapReduce/WordCount/mapper.py', '-file', 'MapReduce/WordCount/reducer.py']\n",
      "Hadoop Streaming Command Output:\n",
      "packageJobJar: [MapReduce/WordCount/mapper.py, MapReduce/WordCount/reducer.py, /tmp/hadoop-unjar60263877779411447/] [] /tmp/streamjob6643479528136135465.jar tmpDir=null\n",
      "\n"
     ]
    }
   ],
   "source": [
    "from lexicraft import Transformation\n",
    "from pyspark.sql import SparkSession\n",
    "# Run Transformation\n",
    "spark = SparkSession.builder.appName(\"DE-prj\").getOrCreate()\n",
    "\n",
    "transformation = Transformation(spark)\n",
    "transformation.start_transform_rawdata()\n",
    "spark.stop() # must stop or else gg !!!!! IMPORTANT\n",
    "Transformation.wordCountMapReduce() # Static Method due to it doesn't rely on spark"
   ]
  }
 ],
 "metadata": {
  "kernelspec": {
   "display_name": "de-venv",
   "language": "python",
   "name": "de-venv"
  },
  "language_info": {
   "codemirror_mode": {
    "name": "ipython",
    "version": 3
   },
   "file_extension": ".py",
   "mimetype": "text/x-python",
   "name": "python",
   "nbconvert_exporter": "python",
   "pygments_lexer": "ipython3",
   "version": "3.10.12"
  }
 },
 "nbformat": 4,
 "nbformat_minor": 5
}
