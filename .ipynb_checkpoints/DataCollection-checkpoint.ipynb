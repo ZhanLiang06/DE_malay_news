{
 "cells": [
  {
   "cell_type": "code",
   "execution_count": 1,
   "id": "f862eafb-e109-4ac2-aba8-6b3f549d76ca",
   "metadata": {
    "scrolled": true
   },
   "outputs": [
    {
     "name": "stderr",
     "output_type": "stream",
     "text": [
      "/home/student/de-prj/de-venv/lib/python3.10/site-packages/malaya/tokenizer.py:214: FutureWarning: Possible nested set at position 3397\n",
      "  self.tok = re.compile(r'({})'.format('|'.join(pipeline)))\n",
      "/home/student/de-prj/de-venv/lib/python3.10/site-packages/malaya/tokenizer.py:214: FutureWarning: Possible nested set at position 3927\n",
      "  self.tok = re.compile(r'({})'.format('|'.join(pipeline)))\n"
     ]
    },
    {
     "name": "stdout",
     "output_type": "stream",
     "text": [
      "{'ibu': {'meanings': ['orang yg melahirkan kita, emak', 'panggilan hormat terhadap wanita yg telah berumur atau wanita yg bersuami', 'bahagian yg besar (induk, utama, pusat, dll) drpd sesuatu (spt pejabat dll)', 'ki inti', ''], 'synonym': ['emak', 'bonda', 'ibu suri', 'ibunda', 'umi', 'mak', 'encik', 'mama', 'mami', 'induk', 'indung', 'ina', 'ibung', 'uai', 'embok', 'bok', 'indu', 'mandeh ibu tiri', 'emak tiri', 'ibu angkat', 'emak angkat'], 'antonym': ['bapa']}}\n",
      "Cleaned Result: {'ibu': {'meanings': ['orang yang melahirkan kita, emak', 'panggilan hormat terhadap wanita yang telah berumur atau wanita yang bersuami', 'bahagian yang besar (induk, utama, pusat, dan lain-lain) daripada sesuatu (seperti pejabat dan lain-lain)', 'ki inti', ''], 'synonym': ['emak', 'bonda', 'ibu suri', 'ibunda', 'umi', 'mak', 'encik', 'mama', 'mami', 'induk', 'indung', 'ina', 'ibung', 'uai', 'embok', 'bok', 'indu', 'mandeh ibu tiri', 'emak tiri', 'ibu angkat', 'emak angkat'], 'antonym': ['bapa']}}\n"
     ]
    }
   ],
   "source": [
    "## Data scrapping prpm\n",
    "from PyClasses.Scrapers.PRPMScraper import PRPMScraper\n",
    "from PyClasses.Scrapers.PERIScraper import PeriScraper\n",
    "from PyClasses.Preprocessing.PRPMCleaner import PRPMCleaner\n",
    "\n",
    "PRPMscrap = PRPMScraper()\n",
    "prpm_cleaner = PRPMCleaner()\n",
    "\n",
    "word = 'ibu'\n",
    "result = PRPMscrap.findWordMetaData(word)\n",
    "print(result)\n",
    "\n",
    "if result and 'meanings' in result[word]:\n",
    "    raw_meanings = result[word]['meanings']\n",
    "    cleaned_meanings = prpm_cleaner.clean_all_meanings(raw_meanings)\n",
    "    result[word]['meanings'] = cleaned_meanings\n",
    "\n",
    "# Output cleaned result\n",
    "print(\"Cleaned Result:\", result)\n",
    "\n",
    "#found smth can be preprocess if not done here, like there will have '\\xa' character in the result string"
   ]
  },
  {
   "cell_type": "code",
   "execution_count": null,
   "id": "b531d18a-aca2-4941-8779-c998b0655c89",
   "metadata": {
    "scrolled": true
   },
   "outputs": [],
   "source": [
    "from datetime import datetime, timedelta\n",
    "from PyClasses.Scrapers.BHarianScraper import BHarianScraper\n",
    "from pyspark.sql import SparkSession\n",
    "from selenium import webdriver\n",
    "\n",
    "def ArticleDataCollection(fromDate,categoryLink):\n",
    "    spark = SparkSession\\\n",
    "        .builder\\\n",
    "        .appName(\"BHarian WebScraping\")\\\n",
    "        .getOrCreate()\n",
    "\n",
    "    ## crawl links\n",
    "    bharianScraper = BHarianScraper()\n",
    "    timeNow = datetime.now()\n",
    "    crawlledUrls = bharianScraper.scrapArticleLinks(fromDate,categoryLink)\n",
    "    url_RDD = spark.sparkContext.parallelize(crawlledUrls)\n",
    "    if crawlledUrls is None:\n",
    "        print('failed to get article links')\n",
    "        return 'fail'\n",
    "    \n",
    "    ## parallelize process to scrap data\n",
    "    scrappedData = url_RDD.map(BHarianScraper.scrapOneArticle).collect()\n",
    "    for data in scrappedData:\n",
    "        if data is None:\n",
    "            scrappedData.remove(data)\n",
    "            \n",
    "    ## Save Data into HDFS\n",
    "    df = spark.createDataFrame(scrappedData)\n",
    "    df.write.format(\"parquet\").mode(\"overwrite\").save(\"DE-prj/RawData\")\n",
    "    timeEnd = datetime.now() \n",
    "    timeTaken = timeEnd - timeNow\n",
    "    print(f'Processing Start Time: {timeNow}')\n",
    "    print(f'Processing End Time: {timeEnd}')\n",
    "    print(f'Total Time Taken: {timeTaken}')\n",
    "    \n",
    "    print('done')\n",
    "    return 'success'\n",
    "\n",
    "ArticleDataCollection(datetime(2024,12,10),'/berita/nasional')"
   ]
  },
  {
   "cell_type": "code",
   "execution_count": null,
   "id": "d387dc44-7f18-4230-ab1b-ccccd2518932",
   "metadata": {
    "scrolled": true
   },
   "outputs": [],
   "source": [
    "# for link in bharianScraper.relLinkToArticle_all:\n",
    "#     print(link)\n",
    "spark = SparkSession\\\n",
    "        .builder\\\n",
    "        .appName(\"ReadRawData\")\\\n",
    "        .getOrCreate()\n",
    "df_read = spark.read.parquet(\"DE-prj/RawData\")\n",
    "df_read.show()\n",
    "\n",
    "\n",
    "df_filter = df_read.where(df_read['title'] == '')\n",
    "df_filter.show()\n",
    "\n",
    "print(df_read.count())\n",
    "\n",
    "\n",
    "# Get the first 5 rows\n",
    "rows = df_read.take(125)\n",
    "\n",
    "# Print each row\n",
    "print(rows[15])"
   ]
  },
  {
   "cell_type": "code",
   "execution_count": null,
   "id": "a8924d77-4ee4-4b3b-a93d-20b544577b37",
   "metadata": {
    "scrolled": true
   },
   "outputs": [],
   "source": [
    "for data in rows:\n",
    "    print(data)"
   ]
  },
  {
   "cell_type": "markdown",
   "id": "8e525e09-006d-4809-b451-d69fb1c5a84e",
   "metadata": {},
   "source": [
    "# PERIBAHASA STARTS HERE YA !"
   ]
  },
  {
   "cell_type": "code",
   "execution_count": null,
   "id": "a3b39cd3-b1e1-4142-b8fa-87622637ad86",
   "metadata": {
    "scrolled": true
   },
   "outputs": [],
   "source": [
    "peri_scrap = PeriScraper()\n",
    "\n",
    "proverbs_data_AM = peri_scrap.scrape_page(peri_scrap.AM_Url)\n",
    "print(\"Proverbs from A–M:\")\n",
    "\n",
    "for proverb, meaning in proverbs_data_AM:\n",
    "    print(f\"Peribahasa: {proverb} || Maksud: {meaning}\")\n",
    "\n",
    "proverbs_data_NZ = peri_scrap.scrape_page(peri_scrap.NZ_Url)\n",
    "print(\"\\nProverbs from N–Z:\")\n",
    "\n",
    "for proverb, meaning in proverbs_data_NZ:\n",
    "    print(f\"Peribahasa: {proverb} || Maksud: {meaning}\")"
   ]
  }
 ],
 "metadata": {
  "kernelspec": {
   "display_name": "de-venv",
   "language": "python",
   "name": "de-venv"
  },
  "language_info": {
   "codemirror_mode": {
    "name": "ipython",
    "version": 3
   },
   "file_extension": ".py",
   "mimetype": "text/x-python",
   "name": "python",
   "nbconvert_exporter": "python",
   "pygments_lexer": "ipython3",
   "version": "3.10.12"
  }
 },
 "nbformat": 4,
 "nbformat_minor": 5
}
