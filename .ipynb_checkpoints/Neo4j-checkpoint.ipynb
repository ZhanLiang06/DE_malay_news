{
 "cells": [
  {
   "cell_type": "code",
   "execution_count": 1,
   "id": "422df3e8-8e55-448f-ae74-525299e2a31f",
   "metadata": {},
   "outputs": [],
   "source": [
    "# pip install neo4j \n",
    "# pip install pandas"
   ]
  },
  {
   "cell_type": "code",
   "execution_count": 2,
   "id": "50c34ada-45f5-4f4f-9cc6-288b9b9211f3",
   "metadata": {},
   "outputs": [
    {
     "name": "stdout",
     "output_type": "stream",
     "text": [
      "Connection established successfully!\n",
      "{'ibu': {'meanings': ['orang yg melahirkan kita, emak', 'panggilan hormat terhadap wanita yg telah berumur atau wanita yg bersuami', 'bahagian yg besar (induk, utama, pusat, dll) drpd sesuatu (spt pejabat dll)', 'ki inti', ''], 'synonym': []}}\n",
      "Database connection lost.\n"
     ]
    }
   ],
   "source": [
    "from PyClasses.Neo4j.neo4j_connection import Neo4jConnection\n",
    "from PyClasses.Neo4j.lexicon_nodes import LexiconNodeManager\n",
    "from PyClasses.Neo4j.lexicon_relationships import LexiconRelManager\n",
    "from PyClasses.Scrapers.PRPMScraper import PRPMScraper\n",
    "from PyClasses.Scrapers.BHarianScraper import BHarianScraper\n",
    "from PyClasses.Scrapers.PERIScraper import PeriScraper\n",
    "from pyspark.sql import SparkSession\n",
    "\n",
    "# Neo4j Databse credentials\n",
    "uri = \"neo4j+s://e54149b7.databases.neo4j.io\"\n",
    "auth = (\"neo4j\", \"22jhcQYf6l4mlObbVX61Ju_Kq9Qp10gyyUXuot4iTX0\")\n",
    "\n",
    "with Neo4jConnection(uri, auth) as connection:\n",
    "    driver = connection.get_driver() # Connect to Neo4j\n",
    "    bharian_scraper = BHarianScraper()\n",
    "    prpm_scraper = PRPMScraper()\n",
    "    lnm = LexiconNodeManager(uri, auth)\n",
    "    lrm = LexiconRelManager(uri, auth)\n",
    "\n",
    "    # Find metadata on two words with PRPMScraper()\n",
    "    #berjaya_meta = prpm_scraper.findWordMetaData(\"ibu\")\n",
    "    #gagal_meta = prpm_scraper.findWordMetaData(\"bapa\")\n",
    "\n",
    "    # Create WORD nodes\n",
    "    #lnm.create_word_node(berjaya_meta)\n",
    "    #lnm.create_word_node(gagal_meta)\n",
    "\n",
    "    # Establish relationships between nodes\n",
    "    #lrm.create_node_relationship(\"WORD\", \"word\", \"ibu\", \"WORD\", \"word\", \"bapa\", \"OPPOSITE_OF\")\n",
    "\n",
    "    # Try: establish SYNONYM relationship between nodes\n",
    "    ibu_meta = prpm_scraper.findWordMetaData(\"ibu\")\n",
    "    print(ibu_meta)"
   ]
  },
  {
   "cell_type": "code",
   "execution_count": null,
   "id": "50f4f2e4-21d7-4edc-b947-a4af15355449",
   "metadata": {},
   "outputs": [],
   "source": []
  }
 ],
 "metadata": {
  "kernelspec": {
   "display_name": "Python 3 (ipykernel)",
   "language": "python",
   "name": "python3"
  },
  "language_info": {
   "codemirror_mode": {
    "name": "ipython",
    "version": 3
   },
   "file_extension": ".py",
   "mimetype": "text/x-python",
   "name": "python",
   "nbconvert_exporter": "python",
   "pygments_lexer": "ipython3",
   "version": "3.10.12"
  }
 },
 "nbformat": 4,
 "nbformat_minor": 5
}
