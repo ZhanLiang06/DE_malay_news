{
 "cells": [
  {
   "cell_type": "code",
   "execution_count": 1,
   "id": "ba4d1161-4fe5-486c-b120-50e3e99144a6",
   "metadata": {},
   "outputs": [],
   "source": [
    "#pip install neo4j"
   ]
  },
  {
   "cell_type": "code",
   "execution_count": 2,
   "id": "6019ae4c-4e5b-4db4-b9d9-2f1eadc4f921",
   "metadata": {},
   "outputs": [
    {
     "name": "stdout",
     "output_type": "stream",
     "text": [
      "Connection established successfully!\n",
      "Database connection lost.\n"
     ]
    }
   ],
   "source": [
    "from PyClasses.Neo4j.neo4j_connection import Neo4jConnection\n",
    "from PyClasses.Neo4j.lexicon_manager import LexiconDBManager\n",
    "from PyClasses.Scrapers.PRPMScraper import PRPMScraper\n",
    "\n",
    "uri = \"neo4j+s://e54149b7.databases.neo4j.io\"\n",
    "auth = (\"neo4j\", \"22jhcQYf6l4mlObbVX61Ju_Kq9Qp10gyyUXuot4iTX0\")\n",
    "\n",
    "with Neo4jConnection(uri, auth) as connection:\n",
    "    driver = connection.get_driver()\n",
    "    test_node = LexiconDBManager(uri, auth)\n",
    "    prpm_scraper = PRPMScraper()\n",
    "    \n",
    "    w1_metadata = prpm_scraper.findWordMetaData(\"cantik\")\n",
    "    w2_metadata = prpm_scraper.findWordMetaData(\"gagal\")\n",
    "    \n",
    "    test_node.create_word_node(w1_metadata)\n",
    "    test_node.create_word_node(w2_metadata)\n",
    "    \n",
    "    test_node.create_node_relationship(\"WORD\", \"word\", \"berjaya\", \"WORD\", \"word\", \"gagal\", \"OPPOSITE_OF\")\n",
    "    # test_rel.create_article_rel(\"bola\", \"/berita/nasional/2024/12/1334792/pembangkang-gagal-undi-belah-bahagian\")\n",
    "\n",
    "    updates = {\n",
    "        \"definitions\": [\"new definition 1\", \"new definition 2\"],\n",
    "        \"synonyms\": [\"new synonym 1\", \"new synonym 2\"]\n",
    "    }\n",
    "    updated_node = test_node.update_node('WORD', 'word', 'cantik', updates)\n",
    "    \n",
    "    #test_node.clear_db()"
   ]
  }
 ],
 "metadata": {
  "kernelspec": {
   "display_name": "Python 3 (ipykernel)",
   "language": "python",
   "name": "python3"
  },
  "language_info": {
   "codemirror_mode": {
    "name": "ipython",
    "version": 3
   },
   "file_extension": ".py",
   "mimetype": "text/x-python",
   "name": "python",
   "nbconvert_exporter": "python",
   "pygments_lexer": "ipython3",
   "version": "3.10.12"
  }
 },
 "nbformat": 4,
 "nbformat_minor": 5
}
