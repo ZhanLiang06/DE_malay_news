{
 "cells": [
  {
   "cell_type": "markdown",
   "id": "b90384b2-932b-45c8-9c7c-2e610ce30624",
   "metadata": {},
   "source": [
    "## PRPM Scrapper"
   ]
  },
  {
   "cell_type": "code",
   "execution_count": 10,
   "id": "f862eafb-e109-4ac2-aba8-6b3f549d76ca",
   "metadata": {
    "scrolled": true
   },
   "outputs": [
    {
     "name": "stdout",
     "output_type": "stream",
     "text": [
      "{'word': 'cari', 'meanings': ['bapa berusaha untuk mendapat (menjumpai dan lain-lain) sesuatu', 'mn harta milik (pencarian)', 'pendapatan, hasil pekerjaan'], 'synonym': [], 'antonym': []}\n"
     ]
    }
   ],
   "source": [
    "from lexicraft.scrapers.prpm_scraper import PRPMScraper\n",
    "PRPMscrap = PRPMScraper()\n",
    "\n",
    "\n",
    "word = 'cari'\n",
    "result = PRPMscrap.findWordMetaData(word)\n",
    "print(result)\n",
    "\n",
    "#found smth can be preprocess if not done here, like there will have '\\xa' character in the result string"
   ]
  },
  {
   "cell_type": "markdown",
   "id": "8e525e09-006d-4809-b451-d69fb1c5a84e",
   "metadata": {},
   "source": [
    "## PERIBAHASA Scrapper"
   ]
  },
  {
   "cell_type": "code",
   "execution_count": 23,
   "id": "a3b39cd3-b1e1-4142-b8fa-87622637ad86",
   "metadata": {
    "scrolled": true
   },
   "outputs": [
    {
     "name": "stderr",
     "output_type": "stream",
     "text": [
      "\n",
      "KeyboardInterrupt\n",
      "\n"
     ]
    }
   ],
   "source": [
    "from lexicraft.scrapers.peri_scraper import PeriScraper\n",
    "peri_scrap = PeriScraper()\n",
    "proverbs_data_AM = peri_scrap.scrape_page(peri_scrap.AM_Url)\n",
    "proverbs_data_NZ = peri_scrap.scrape_page(peri_scrap.NZ_Url)\n",
    "combined_peri = proverbs_data_AM + proverbs_data_NZ\n",
    "\n",
    "for peri in combined_peri:\n",
    "    proverb = peri.get(\"peri\", \"\")\n",
    "    meaning = peri.get(\"meaning\", \"\")\n",
    "    print(f\"Peribahasa: {proverb} || Maksud: {meaning}\")"
   ]
  },
  {
   "cell_type": "markdown",
   "id": "b8abd931-86b1-4208-bdf2-6129e613422a",
   "metadata": {},
   "source": [
    "## Data Collection For Berita Harian"
   ]
  },
  {
   "cell_type": "code",
   "execution_count": 24,
   "id": "4c401e87-bde5-4b94-8e94-d93b750ce20a",
   "metadata": {},
   "outputs": [
    {
     "name": "stderr",
     "output_type": "stream",
     "text": [
      "24/12/22 15:45:49 WARN SparkSession: Using an existing Spark session; only runtime SQL configurations will take effect.\n"
     ]
    },
    {
     "name": "stdout",
     "output_type": "stream",
     "text": [
      "Links crawl to datetime  2024-12-22 15:45:50.179054\n",
      "Links Crawling Starts...\n",
      "Article teaser found on page 0.\n",
      "Current no. of link: 10\n"
     ]
    },
    {
     "name": "stderr",
     "output_type": "stream",
     "text": [
      "[Stage 5:>                                                          (0 + 3) / 3]/home/student/de-prj/de-venv/lib/python3.10/site-packages/malaya/tokenizer.py:214: FutureWarning: Possible nested set at position 3397\n",
      "  self.tok = re.compile(r'({})'.format('|'.join(pipeline)))\n",
      "/home/student/de-prj/de-venv/lib/python3.10/site-packages/malaya/tokenizer.py:214: FutureWarning: Possible nested set at position 3397\n",
      "  self.tok = re.compile(r'({})'.format('|'.join(pipeline)))\n",
      "/home/student/de-prj/de-venv/lib/python3.10/site-packages/malaya/tokenizer.py:214: FutureWarning: Possible nested set at position 3397\n",
      "  self.tok = re.compile(r'({})'.format('|'.join(pipeline)))\n",
      "/home/student/de-prj/de-venv/lib/python3.10/site-packages/malaya/tokenizer.py:214: FutureWarning: Possible nested set at position 3927\n",
      "  self.tok = re.compile(r'({})'.format('|'.join(pipeline)))\n",
      "/home/student/de-prj/de-venv/lib/python3.10/site-packages/malaya/tokenizer.py:214: FutureWarning: Possible nested set at position 3927\n",
      "  self.tok = re.compile(r'({})'.format('|'.join(pipeline)))\n",
      "/home/student/de-prj/de-venv/lib/python3.10/site-packages/malaya/tokenizer.py:214: FutureWarning: Possible nested set at position 3927\n",
      "  self.tok = re.compile(r'({})'.format('|'.join(pipeline)))\n",
      "[Stage 5:=======================================>                   (2 + 1) / 3]"
     ]
    },
    {
     "name": "stdout",
     "output_type": "stream",
     "text": [
      "Data sent to topic beritaH\n",
      "[{'title': 'Graduan OKU penglihatan mahu jadi inspirasi, pemangkin semangat golongan senasib', 'authorDetails': {'authName': 'Amir Abd Hamid', 'relLink': '/authors/amir-abd-hamid', 'email': 'amir_hamid@mediaprima.com.my'}, 'publishTime': 'Disember 22, 2024 @ 3:16pm', 'articleBrief': 'Graduan OKU penglihatan, Mohammad Faiz menerima sijil daripada Pengerusi Majlis Agama Islam Wilayah Persekutuan, Syed Kamarulzaman Syed Kabeer (kanan) di Majlis Graduasi dan Apresiasi Latihan Dan Kerjaya MAIWP Kali Ke-3 di Rumah Puspanita. - Foto FATHIL ASRI.', 'contents': ['KUALA LUMPUR: Diiktiraf graduan terbaik dalam kategori orang kelainan upaya (OKU) penglihatan bukan sahaja menjadi kebanggaan, tetapi pemangkin semangat buat insan istimewa, Mohammad Faiz Asangku Abdullah.', 'Mohammad Faiz, 50, berkata kejayaan itu mencetuskan keinginannya untuk terus melakar kejayaan dalam kerjaya sebagai pengamal refleksologi dan terapi, selain mendidik lebih ramai OKU penglihatan dalam bidang itu.', 'Dilahirkan dengan masalah penglihatan sejak kecil, Mohammad Faiz yang berasal dari Kudat, Sabah tidak pernah menganggap kekurangan dirinya sebagai halangan. ', '\"Berbekalkan semangat, saya menyertai pelbagai kursus refleksologi dan terapi termasuk di China, selain mendalami perubatan tradisional Melayu di sebuah kolej tempatan.', '\"Bidang ini sebenarnya sangat fleksibel dan sesuai untuk mereka yang mahu mengimbangi antara tuntutan kerja dan melunaskan tanggungjawab terhadap keluarga.', '\"Sehingga kini saya mempunyai tiga cawangan perusahaan Reflex Jariku Services iaitu ibu pejabat Kuala Lumpur dan masing-masing satu cawangan di Ipoh serta Kota Kinabalu dengan lebih 20 pekerja,\" katanya.', 'Mohammad Faiz berkata demikian ketika ditemui selepas Majlis Graduasi dan Apresiasi Latihan dan Kerjaya Majlis Agama Islam Wilayah Persekutuan (MAIWP) kali ke-3, di sini, hari ini.', 'Beliau menerima Anugerah Graduan Terbaik Kategori Program Refleksologi dan Urut Terapi Pertubuhan Amal Pembangunan Usahawan OKU Penglihatan (PERKUM) yang ditaja sepenuhnya oleh MAIWP. ', 'Mohammad Faiz yang tidak pernah melupakan tanggungjawab sebagai pembayar zakat mengakui kejayaan beliau banyak disokong oleh usaha MAIWP. ', '\"Saya juga berterima kasih kepada MAIWP atas peluang diberikan. Inisiatif mereka membantu golongan OKU seperti saya keluar daripada belenggu kesusahan, menjana pendapatan sendiri, malah dapat mencipta pula peluang pekerjaan untuk orang lain.', '\"Apa pun, yang penting carilah dan tambahlah ilmu sebanyak mungkin kerana ia bekalan dalam usaha mendaki kejayaan,\" katanya.', 'Sementara itu, Pengerusi MAIWP, Syed Kamarulzaman Syed Kabeer dalam ucapan perasmian berkata, beliau berbangga atas kejayaan graduan yang kini bukan sahaja bekerja dengan orang, tetapi ada juga menjadi majikan.', '\"Program MAIWP ini membuktikan bahawa asnaf yang diberi peluang dan bimbingan mampu melangkah jauh. Saya difahamkan graduan sesi sebelum ini juga ada yang berjaya menjadi majikan dan menggajikan pekerja.', '\"Ini adalah bukti nyata bahawa usaha memberikan latihan dan kerjaya mengubah nasib mereka, daripada penerima bantuan zakat kepada pencipta peluang pekerjaan,\" katanya.', 'Beliau berkata, seramai 200 peserta menerima Sijil Penghargaan Majlis Graduasi dan Apresiasi Latihan Kerjaya MAIWP Ketiga selepas menamatkan latihan dalam pelbagai bidang kemahiran menerusi kerjasama strategik dengan 12 agensi dan ditawarkan pekerjaan dengan pendapatan minimum sebanyak RM1,800 seorang. ', '\"Sejak program ini diperkenalkan pada 2022, seramai 309 peserta berjaya menamatkan latihan dalam pelbagai bidang dengan peruntukan keseluruhan sebanyak RM4.4 juta. ', '\"Sehingga 15 Disember 2024, MAIWP sudah mengagihkan dana zakat sebanyak RM1.006 bilion menerusi pelbagai skim bantuan dan program serta aktiviti pembangunan asnaf di Wilayah Persekutuan Kuala Lumpur, Putrajaya dan Labuan,\" katanya.'], 'url': '/berita/nasional/2024/12/1340085/graduan-oku-penglihatan-mahu-jadi-inspirasi-pemangkin-semangat'}, {'title': 'Jangan buat spekulasi, kematian kucing di UM akibat serangan anjing - Polis', 'authorDetails': {'authName': 'Nor Azizah Mokhtar', 'relLink': '/authors/nor-azizah-mokhtar', 'email': 'bhnews@bh.com.my'}, 'publishTime': 'Disember 22, 2024 @ 1:21pm', 'articleBrief': 'Kematian beberapa ekor kucing di kampus Universiti Malaya baru-baru ini berpunca serangan sekumpulan anjing liar. - Foto hiasan ', 'contents': ['KUALA LUMPUR: Polis menggesa orang ramai tidak membuat sebarang spekulasi berhubung kejadian kematian tiga kucing di kampus Universiti Malaya (UM), baru-baru ini. ', 'Ketua Polis Kuala Lumpur, Datuk Rusdi Mohd Isa, berkata hasil siasatan ke atas ketiga-tiga kes berkenaan setakat ini, mendapati kematian tiga kucing terbabit disebabkan serangan anjing liar. ', 'Terdahulu, beliau mengesahkan pihaknya menerima tiga laporan polis berhubung kejadian itu iaitu pada 17 dan 20 Disember lalu, dengan laporan polis terbaru diterima, semalam. ', '\"Bagaimanapun, tiada saksi yang menyaksikan kejadian tersebut berlaku.', '\"Melalui hasil semakan rakaman kamera litar tertutup (CCTV) di sekitar kawasan yang terbabit mendapati terdapat sekumpulan anjing liar bertindak menyerang kucing berkenaan. ', '\"Pihak polis sudah merujuk perkara ini kepada Jabatan Perkhidmatan Veterinar dan pengesahan kecederaan yang dialami ke atas kematian kucing ini adalah disebabkan serangan anjing liar,\" katanya dalam kenyataan, hari ini. ', 'Sehubungan itu, katanya pihak polis menasihati orang ramai agar tidak membuat sebarang spekulasi berhubung kes ini bagi mengelakkan berlaku kegelisahan terhadap orang ramai. ', '\"Jika mempunyai sebarang maklumat disarankan untuk menyalurkan maklumat dengan menghubungi talian Hotline Polis Kuala Lumpur di talian 03-2115 9999 atau mana-mana balai polis yang berdekatan.', '\"Selain itu, orang ramai juga turut boleh menyalurkan sebarang aduan secara rasmi sekiranya terdapat kes penganiayaan terhadap mana-mana haiwan kepada pihak Jabatan Veterinar di pautan https://awa.dvs.gov.my/,\" katanya. ', 'Beliau berkata, aduan yang diterima itu membolehkan tindakan tegas diambil ke atas mana-mana individu yang didapati berbuat zalim ke atas haiwan. ', 'Semalam, Ahli Parlimen Bandar Tun Razak Datuk Seri Dr Wan Azizah Wan Ismail menggesa tindakan serta-merta dan siasatan menyeluruh dilaksanakan, untuk mengenal pasti punca kematian kucing yang ditemukan dalam keadaan ngeri di UM, baru-baru ini. ', 'Beliau yang juga isteri Perdana Menteri mengecam sekeras-kerasnya kelakuan penganiayaan terhadap haiwan. ', 'Wan Azizah dilapor berkata siasatanperlu dijalankan bagi memastikan insiden yang bertentangan nilai kemanusiaan dan melanggar undang-undang, tidak berulang. ', 'Kelmarin, pengurusan UM memaklumkan sudah membuat laporan polis berhubung insiden kematian kucing sekitar kampus universiti bagi membantu pihak berkuasa menjalankan siasatan lanjut dan memastikan tindakan diambil jika terdapat unsur penganiayaan. ', 'Sebelum ini, media melaporkan dua ekor kucing ditemui mati dalam keadaan menyayat hati di Fakulti Perniagaan dan Ekonomi UM pada 12 dan 16 Disember lalu. ', 'Berikutan itu, Kesatuan Mahasiswa Universiti Malaya Fakulti Perniagaan dan Ekonomi (MMUM FPE) tampil membuat laporan polis pada 17 Disember lalu. ', \"Jumaat lalu, kejadian sama berulang ke atas seekor kucing dikenali sebagai 'Lily' ditemui mati dalam keadaan menyayat hati, dengan keempat-empat kakinya seperti dipotong dan mempunyai luka besar pada badan. \"], 'url': '/berita/nasional/2024/12/1340039/jangan-buat-spekulasi-kematian-kucing-di-um-akibat-serangan-anjing'}, {'title': 'MetMalaysia keluar amaran hujan berterusan tahap waspada di Sabah, Labuan hari ini', 'authorDetails': {'authName': 'BERNAMA', 'relLink': '/authors/bernama', 'email': ''}, 'publishTime': 'Disember 22, 2024 @ 1:07pm', 'articleBrief': 'Foto hiasan/BERNAMA', 'contents': ['KUALA LUMPUR: Jabatan Meteorologi Malaysia (MetMalaysia) mengeluarkan amaran hujan berterusan tahap waspada bagi beberapa kawasan di Sabah dan Labuan hari ini.', 'Ketua Pengarah MetMalaysia, Dr Mohd Hisham Mohd Anip dalam kenyataan berkata di Sabah, ia melibatkan kawasan Pedalaman iaitu Kuala Penyu dan Beaufort.', 'Beliau berkata bagi Pantai Barat, kawasan yang terlibat adalah Papar, Putatan, Penampang, Kota Kinabalu, Tuaran dan Kota Belud selain Kudat.', 'Amaran sama turut melibatkan Labuan.', 'Semalam, MetMalaysia mengeluarkan amaran hujan berterusan tahap buruk bagi kawasan Kuala Penyu dan Beaufort.', '\"Orang ramai boleh mendapatkan maklumat cuaca terkini melalui laman web rasmi Jabatan, aplikasi mobil myCuaca dan laman media sosial rasmi Jabatan. Talian hotline MET Malaysia 1-300-22-1638 boleh dihubungi bagi sebarang pertanyaan lanjut,\" katanya. – BERNAMA'], 'url': '/berita/nasional/2024/12/1340036/metmalaysia-keluar-amaran-hujan-berterusan-tahap-waspada-di-sabah'}, {'title': 'Kelantan mohon peruntukan yang sudah diluluskan Kerajaan Pusat disegerakan - TMB', 'authorDetails': {'authName': 'Nor Fazlina Abdul Rahim', 'relLink': '/authors/nor-fazlina-abdul-rahim', 'email': 'nfazlina@nstp.com.my'}, 'publishTime': 'Disember 22, 2024 @ 1:06pm', 'articleBrief': 'Timbalan Menteri Besar Kelantan, Datuk Dr Mohamed Fadzli Hassan (tengah) ketika melawat Loji Rawatan Air (LRA) Jelawat berkapasiti 4 juta liter sehari (JLH) di Jelawat, Bachok pada 29 Ogos lalu. - Foto fail NSTP/Nor Amalina Alias ', 'contents': ['KOTA BHARU: Kelantan memohon agar peruntukan yang sudah diluluskan sebelum ini oleh Kerajaan Pusat kepada negeri ini dipercepatkan, khususnya berkaitan kebajikan rakyat. ', ' Timbalan Menteri Besar, Datuk Dr Mohamed Fadzli Hassan, berkata ia bertujuan bagi membolehkan projek yang diumumkan itu dilaksanakan dengan segera. ', ' \"Kita berterima kasih dan menyambut baik apa yang diumumkan Perdana Menteri berhubung Kerajaan Pusat sentiasa berlaku adil termasuk negeri pembangkang. ', ' \"Namun saya minta supaya apa sahaja peruntukan yang diluluskan sebelum ini dipercepatkan, khususnya berkaitan kebajikan rakyat berkaitan mengatasi bencana termasuk benteng banjir.', ' \"Ia bagi membolehkan projek berkenaan dapat laksanakan segera mengikut keperluan rakyat. Kita (Kelantan) pun bukan mahu peruntukan sama dengan negeri lain, jika orang lain lebih memerlukan berilah kepada mereka. ', ' \"Namun apa yang kita perlukan, sepatutnya beri sebagaimana kita menghormati semangat Federalisme,\" katanya ditemui di sini, semalam. ', ' Kelmarin, media melaporkan, Datuk Seri Anwar Ibrahim menegaskan Kerajaan Persekutuan sentiasa adil dalam menyalurkan peruntukan kepada negeri yang terkesan akibat bencana termasuk negeri pembangkang. ', ' Perdana Menteri berkata, Kerajaan Pusat turut menambah peruntukan kepada negeri berkenaan bagi memastikan isu yang diberi perhatian dapat ditangani sebaik mungkin. ', ' Menyentuh peruntukan Kerajaan Pusat untuk Kelantan, Perdana Menteri berkata, ia turut meningkat dari RM380.26 juta pada tahun ini kepada RM429.05 juta tahun depan.'], 'url': '/berita/nasional/2024/12/1340031/kelantan-mohon-peruntukan-yang-sudah-diluluskan-kerajaan-pusat'}, {'title': 'Bantuan awal persekolahan RM150 diperluas kepada pelajar Tingkatan Enam - Fadhlina', 'authorDetails': {'authName': 'Ilah Hafiz Aziz', 'relLink': '/authors/ilah-hafiz-aziz', 'email': 'illahhafiz.abdulaziz@bh.com.my'}, 'publishTime': 'Disember 22, 2024 @ 1:02pm', 'articleBrief': 'Menteri Pendidikan, Fadhlina Sidek menyantuni murid Sekolah Jenis Kebangsaan Tamil (SJKT) Ladang Tumbuk di Kuala Langat ketika hadir menyempurnakan majlis sambutan ulang tahun ke-100 dan perasmian naik taraf dewan sekolah berkenaan, hari ini. - Foto KPM', 'contents': ['KUALA LANGAT: Bantuan Awal Persekolahan (BAP) yang diperkenalkan kerajaan pada 2012 untuk meringankan beban kewangan ibu bapa atau penjaga anak Tahun Satu hingga Tingkatan Lima, diperluaskan kepada pelajar Tingkatan 6 bermula sesi 2025/2026.', ' Menteri Pendidikan, Fadhlina Sidek, berkata bantuan RM150 itu akan memberi manfaat kepada lebih 100,000 pelajar dengan kerajaan menanggung implikasi kewangan kira-kira RM15 juta.', ' Katanya, agihan bantuan itu kepada pelajar Tingkatan Enam sedia ada akan dilaksanakan pada Februari 2025, manakala pelajar baharu pula akan menerimanya pada Julai tahun hadapan.', ' Beliau berkata, perluasan BAP kepada pelajar Tingkatan Enam adalah cerminan keprihatinan Kerajaan MADANI untuk meringankan beban kewangan ibu bapa dan penjaga dalam membuat persediaan keperluan persekolahan anak-anak.', ' \"Inisiatif ini juga membuktikan komitmen berterusan Kementerian Pendidikan (KPM) untuk terus memperkasakan pendidikan Tingkatan Enam. Ia adalah satu langkah ke hadapan untuk menggalakkan pelajar memilih pendidikan Tingkatan Enam,\" katanya.', ' Mengumumkan demikian selepas menyempurnakan Majlis Sambutan Ulang Tahun ke-100 dan perasmian naik taraf dewan Sekolah Jenis Kebangsaan Tamil (SJKT) Ladang Tumbuk, dekat sini hari ini, Fadhlina berkata, KPM sentiasa beriltizam untuk meningkatkan akses pendidikan di setiap peringkat melibatkan semua jenis sekolah bawah kelolaannya.', ' \"Ini termasuk dengan meluaskan Pendidikan dan Latihan Teknikal dan Vokasional (TVET) dan pendidikan Tingkatan Enam,\" katanya.', ' Pada 18 Oktober lalu, Perdana Menteri yang juga Menteri Kewangan, Datuk Seri Anwar Ibrahim ketika membentangkan Belanjawan 2025, mengumumkan BAP diteruskan dengan hampir RM800 juta diperuntukkan kepada 5.2 juta murid Tahun Satu hingga Tingkatan Lima tanpa mengira pendapatan ibu bapa.', ' Bantuan berkenaan adalah satu daripada 17 bantuan pendidikan yang terus disediakan kerajaan bagi sektor pendidikan dengan peruntukan keseluruhan RM5.3 bilion.', ' Bagi tahun ini, kerajaan memperuntukkan RM702,012,750 khusus untuk BAP sebanyak RM150 kepada setiap pelajar Tahun Satu hingga Tingkatan Lima secara sekali bayar, yang memberi manfaat kepada 4,680,085 pelajar di seluruh negara.', ' Murid yang layak menerima bantuan itu mesti warganegara Malaysia yang berada di Tahun Satu hingga Tingkatan Lima atau setaraf dengannya yang bersekolah di sekolah kerajaan, sekolah bantuan kerajaan, sekolah agama, sekolah agama swasta berdaftar dengan KPM tidak termasuk sekolah antarabangsa dan sekolah ekspatriat.', ' Selain itu, mereka yang bersekolah di Kolej PERMATA, Sekolah Bimbingan Jalinan Kasih, Sekolah Integriti, Sekolah Henry Gurney, Maktab Rendah Sains MARA dan Maktab Tentera Diraja (MTD) dengan kaedah penyaluran kepada pihak sekolah yang kemudian membuat agihan secara kredit ke dalam akaun murid atau secara tunai.', ' Pada majlis sama, Fadhlina turut menyampaikan peranti tablet kepada murid sumbangan Yayasan Didik Negara (YDN) dan penghargaan kepada individu yang banyak menyumbang kepada kemajuan sekolah berkenaan. '], 'url': '/berita/nasional/2024/12/1340029/bantuan-awal-persekolahan-rm150-diperluas-kepada-pelajar-tingkatan'}, {'title': 'Pelbagai perencanaan strategik lonjakkan ekonomi sepanjang 2024 - PM', 'authorDetails': {'authName': 'BERNAMA', 'relLink': '/authors/bernama', 'email': ''}, 'publishTime': 'Disember 22, 2024 @ 3:44pm', 'articleBrief': 'Kerajaan MADANI telah melaksanakan pelbagai perencanaan untuk terus melonjakkan ekonomi negara sepanjang tahun ini bagi melimpahkan kemakmuran berpanjangan buat rakyat dan negara.  - Foto FB Anwar Ibrahim ', 'contents': ['KUALA LUMPUR: Perdana Menteri Datuk Seri Anwar Ibrahim berkata kerajaan MADANI telah melaksanakan pelbagai perencanaan strategik untuk melonjakkan ekonomi negara sepanjang 2024 bagi melimpahkan kemakmuran yang berpanjangan kepada rakyat dan negara. ', 'Menerusi \"Sorotan 2024: Melonjak Ekonomi, Melimpah Kemakmuran\" yang dipaparkan dalam hantaran di laman Facebook beliau hari ini, Anwar yang juga Menteri Kewangan berkongsi beberapa inisiatif dan pencapaian negara. ', 'Antara pencapaian itu adalah pelaburan ekonomi digital yang menyaksikan pelaburan digital diluluskan bernilai RM254.7 bilion bagi tempoh Januari hingga September 2024, yang mewujudkan 159,000 pekerjaan. ', 'Syarikat teknologi gergasi yang melabur di Malaysia termasuk Microsoft (RM10.5 bilion), NVIDIA dan YTL (RM20 bilion), Oracle (RM27 bilion), AWS (RM21.3 bilion) dan Google (RM9.4 bilion). ', 'Pelaburan ini dijangka memacu pertumbuhan ekonomi berasaskan teknologi dan menjadikan Malaysia sebagai hab digital Asia Tenggara. ', 'Pelaburan Infineon di Kedah pula berjumlah RM30.1 bilion untuk membina loji fabrikasi kuasa silikon karbida terbesar di dunia, yang menghasilkan 4,000 peluang pekerjaan. ', 'Selain itu, langkah ini mengukuhkan industri semikonduktor Malaysia, menarik pelabur global dan meningkatkan eksport. ', ' Fokus pembangunan tenaga hijau', 'Menurut hantaran itu, kerajaan turut memfokuskan kepada pembangunan tenaga hijau menerusi pelancaran Taman Perindustrian Hijau Bersepadu Kerian (KIGIP) di Perak. ', 'Ladang solar berkeluasan 267.09 hektar itu akan dibangunkan melalui kerjasama strategik antara SD Guthrie dan Permodalan Nasional Bhd. ', 'Bagi menggalakkan keterangkuman dan keseimbangan sosioekonomi, Pelan Transformasi Ekonomi Bumiputera (PuTERA35) diperkenalkan dengan memberi tumpuan kepada peningkatan penyertaan ekonomi Bumiputera melalui inisiatif yang disasarkan dan meningkatkan keadilan sosio-ekonomi.  ', ' ', 'Pelan Induk Kerjasama Awam-Swasta (PIKAS) 2030 pula menyasarkan sumbangan kepada Keluaran Dalam Negara Kasar (KDNK) sebanyak RM82 bilion menjelang 2030 dengan jangkaan 900,000 pekerjaan baharu melalui pelbagai projek kerjasama awam-swasta (PPP). ', 'Menurut sorotan itu, langkah ini memacu pertumbuhan ekonomi melalui pembabitan sektor swasta dan merupakan rangka terbaik untuk memperkukuh tatakelola. ', 'Sementara itu, enam syarikat pelaburan berkaitan kerajaan (GLIC) melabur RM120 bilion di bawah program pelaburan GLIC (GEAR-uP) bagi meningkatkan sektor pembuatan berteknologi tinggi dan tenaga mampan serta memacu daya tahan ekonomi jangka panjang. ', 'Turut dikongsikan adalah kemajuan Pelan Induk Perindustrian Baharu 2030 (NIMP 2030), antaranya pertumbuhan KDNK sebanyak 4.7 peratus (RM4.2 bilion) pada suku kedua 2024, peningkatan pekerjaan 0.9 peratus atau 200,000 pekerjaan dan pelaburan sektor semikonduktor sebanyak RM34.6 bilion. ', '\"Kerajaan akan terus bekerja keras di tahun-tahun mendatang untuk memacu masa depan kita yang lebih sejahtera, insya-Allah,\" kata Anwar. – BERNAMA'], 'url': '/berita/nasional/2024/12/1340094/pelbagai-perencanaan-strategik-lonjakkan-ekonomi-sepanjang-2024-pm'}, {'title': 'Persatuan hospital swasta cari penyelesaian jangka panjang selesai kos perubatan', 'authorDetails': {'authName': 'Ilah Hafiz Aziz', 'relLink': '/authors/ilah-hafiz-aziz', 'email': 'illahhafiz.abdulaziz@bh.com.my'}, 'publishTime': 'Disember 22, 2024 @ 3:23pm', 'articleBrief': 'Datuk Dr Kuljit Singh.', 'contents': ['KUALA LUMPUR: Persatuan Hospital Swasta Malaysia (APHM) komited untuk bekerjasama dengan kerajaan untuk mencari penyelesaian jangka panjang berhubung inflasi kos perubatan yang dikesan membebankan ramai rakyat negara, hari ini.', 'Presidennya, Datuk Dr Kuljit Singh, berkata langkah interim oleh Bank Negara Malaysia (BNM) bagi mengurangkan beban pemegang polisi insurans yang mengalami peningkatan kenaikan premium dilihat hanya tindakan sementara yang memerlukan penyelesaian lebih berkesan.', '\"Keutamaan APHM adalah dalam menjaga kesejahteraan pesakit yang memerlukan rawatan dan APHM komited untuk bekerjasama dengan kerajaan bagi mencapai penyelesaian jangka panjang yang berasaskan bukti untuk isu inflasi kos perubatan.', '\"Kami sedang berusaha untuk berunding dengan pihak berkepentingan utama kerajaan dan akan berkongsi lebih lanjut apabila perbincangan ini selesai,\" katanya kepada BH, di sini hari ini.', 'Mengulas lanjut, APHM dan pengendali insurans dan takaful (ITO) bersedia bersama kerajaan untuk menyumbang ke dalam dana RM60 juta bagi mempercepatkan reformasi kesihatan rakyat.', 'Beliau berkata demikian, sebagai mengulas pendedahan Bank Negara Malaysia (BNM) dan Kementerian Kesihatan (KKM) kepada Ahli Parlimen dalam satu taklimat baru-baru ini, mengenai caj perubatan yang berbeza sehingga empat kali ganda dikesan berlaku antara pemegang insurans dan pesakit yang membayar tunai.', \"Ahli Parlimen PKR dalam kenyataan bersama berkata, misalnya, pesakit denggi yang menggunakan surat jaminan (GL) akan membayar RM4,978, manakala pesakit 'pay and claim' hanya membayar RM1,288 dengan perbezaan empat kali ganda.\", \"Turut didedahkan, pesakit pneumonia yang menggunakan GL membayar RM6,859 dan pesakit 'pay and claim' hanya membayar RM2,654, dengan perbezaan tiga kali ganda, manakala pesakit katarak yang membayar RM6,000 melalui insurans, manakala yang tidak berinsurans hanya membayar RM3,000 dengan perbezaan sekali ganda.\", 'Mangsa kemalangan yang memasuki hospital swasta juga dicaj RM200,000, manakala memasuki Hospital Universiti Kebangsaan Malaysia (HUKM) hanya membayar RM70,000 untuk merawat kaki patah, dengan perbezaan tiga kali ganda.', 'Mereka menerima pelbagai aduan mengenai caj yang tidak telus dan berlipat kali ganda yang dikenakan oleh hospital swasta.', 'Kenyataan itu dikeluarkan oleh Sim Tze Tzin (Bayan Baru), Jimmy Pua (Tebrau), Taufiq Johari (Sungai Petani), Chiew Choon Mun (Miri), dan R. Yuneswaran (Segamat) serta Senator Bob Manolan.'], 'url': '/berita/nasional/2024/12/1340089/persatuan-hospital-swasta-cari-penyelesaian-jangka-panjang-selesai'}, {'title': 'Hanya tiga pintu masuk sah dari Kelantan ke Thailand', 'authorDetails': {'authName': 'Sharifah Mahsinah Abdullah', 'relLink': '/authors/sharifah-mahsinah-abdullah', 'email': 'bhnews@bh.com.my'}, 'publishTime': 'Disember 22, 2024 @ 2:16pm', 'articleBrief': 'Kompleks Imigresen, Kastam, Kuarantin dan Keselamatan (ICQS) Rantau Panjang. - Foto fail NSTP', 'contents': ['SUNGAI GOLOK: Pihak berkuasa Thailand hanya membenarkan pelancong Malaysia menggunakan tiga pintu masuk untuk masuk ke negara itu.', 'Komander Tentera Bahagian Keempat Thailand, Leftenan Jeneral Paisan Nusang, berkata tiga pintu masuk itu adalah di Sungai Golok yang bersempadan dengan Rantau Panjang, Tak Bai dengan Pengkalan Kubor dan Buketa dengan Bukit Bunga.', 'Beliau mengeluarkan amaran itu berikutan tindakan tegas polis Malaysia di Kelantan terhadap rentas sempadan menggunakan jeti haram yang bermula pada 1 Disember lalu.', '\"Saya sedar rakyat kedua-dua negara sudah menggunakan laluan haram di sepanjang sempadan untuk kehidupan seharian mereka. Ini sudah menjadi budaya mereka sejak berpuluh tahun.', '\"Sebab itu beberapa lokasi sempadan di sini dipasang dengan pagar keselamatan dan kami diberitahu langkah itu menjejaskan aktiviti harian kedua-dua warganegara tetapi mereka perlu mengikut peraturan.', '\"Saya melihat penguatkuasaan ketat di kawasan sempadan oleh polis Kelantan sejak 1 Disember lalu memberi kesan positif kepada aktiviti penyeludupan di kawasan itu. Sebab itu saya menegaskan rentas sempadan menggunakan tiga pintu masuk yang sah,\" katanya.', 'Bercakap dalam wawancara khas dengan akhbar Malaysia di Songkhla semalam, Paisan berkata beliau bercadang untuk membincangkan lebih lanjut isu ini dengan rakan sejawatannya di Kelantan tidak lama lagi.', '\"Penduduk sempadan di Thailand dan Malaysia adalah seperti saudara. Majoriti mereka sudah menyeberang hampir setiap hari,\" katanya.', 'Mengenai jumlah rakyat Thailand yang ditahan sejak tindakan keras itu, beliau berkata setakat ini, empat warga Thailand ditahan ketika mereka menyeberang ke Kelantan melalui jeti haram di sepanjang sungai Golok.', '\"Kami sedang menunggu pihak berkuasa Kelantan menyelesaikan siasatan terhadap kes itu dan akan mengambil tindakan seterusnya terhadap keempat-empat mereka nanti.', '\"Tentera Thailand juga sudah meningkatkan keselamatan mereka di sepanjang sempadan berikutan tindakan keras itu,\" katanya.', 'Dalam perkembangan lain, Paisan berkata pendatang tanpa izin dari Myanmar terutama etnik Rohingya dan Kemboja menggunakan Thailand sebagai transit untuk mereka melarikan diri ke Malaysia.', '\"Tidak seperti situasi penyeludupan dadah, sindiket penyeludupan manusia menggunakan Thailand sebagai lokasi transit mereka sebelum mereka diseludup keluar ke Malaysia melalui Sungai Golok,\" katanya.'], 'url': '/berita/nasional/2024/12/1340066/hanya-tiga-pintu-masuk-sah-dari-kelantan-ke-thailand'}, {'title': 'Tapak buang sampah haram di pinggir Sungai Skudai resahkan penduduk', 'authorDetails': {'authName': 'Mohamed Farid Noh', 'relLink': '/authors/mohamed-farid-noh', 'email': 'farid_noh@bh.com.my'}, 'publishTime': 'Disember 22, 2024 @ 2:06pm', 'articleBrief': 'Tapak pembuangan sampah haram di Kampung Telok Serdang, Perling. - Foto NSTP/Iskandar Ishak', 'contents': ['JOHOR BAHRU: Satu lagi tapak pembuangan sampah haram dikesan di Perling, kali ini di Kampung Telok Serdang, kira-kira 150 meter dari Sungai Skudai, di sini.', 'Ia selepas pendedahan mengenai kewujudan sebuah tapak pelupusan sampah haram di tebing Sungai Danga, yang terletak di Kampung Tuah Jaya, hanya 3.3 kilometer (km) dari kawasan berkenaan.', 'Tinjauan di Kampung Telok Serdang mendapati tapak pembuangan sampah haram seluas padang bola itu berada di pinggir Sungai Skudai, yang sering dilaporkan tercemar dan dipenuhi sampah sarap.', 'Sampah dilihat termasuk longgokan beg plastik sampah domestik, botol dan bungkusan makanan selain buangan bahan binaan, yang menimbulkan bau busuk.', 'Penduduk kampung yang hanya mahu dikenali sebagai Helmi, 38, berkata kewujudan tapak pembuangan sampah haram disedari sejak lima tahun lalu.', 'Katanya, pada mulanya sampah di tapak pembuangan haram berkenaan dibuang lori kecil yang memasuki kampung itu pada awal pagi.', '\"Namun kini ratusan penduduk etnik Rohingya yang tinggal di kampung berkenaan turut membuang sampah harian mereka di situ.', '\"Malah masih ada lagi lori-lori yang masuk buang sampah di situ malah penduduk kampung etnik Rohingya juga menjadikan tapak sampah haram itu makin besar.', '\"Ia menyebabkan bau busuk dan persekitaran kampung ini tercemar berikutan sikap etnik Rohingnya yang tidak mementingkan kebersihan dan membuang sampah sesuka hati.', '\"Penduduk tempatan pernah menegur etnik Rohingnya malah lori yang masuk supaya sampah tidak dibuang di sini, namun ia mencetuskan pergaduhan pula,\" katanya ketika ditemui.', 'Oktober lalu, media melaporkan penduduk Kampung Tuah Jaya, kecewa susulan kewujudan sebuah tapak pelupusan sampah haram berhampiran Sungai Danga yang menyebabkan pencemaran udara dan menjejaskan kesihatan awam.', 'Ia menyebabkan beberapa lokasi di kawasan pinggir Sungai Danga dipenuhi longgokan sampah yang menghasilkan bau busuk.', 'Bulan lalu pula, timbunan sampah tidak berkesudahan dilaporkan terdampar di tebing Sungai Skudai, di sini, bukan sahaja mencemarkan sumber bekalan air negeri malah mengundang pemandangan menjijikkan.', 'Sementara itu, Ahli Parlimen Pulai, Suhaizan Kayat berkata, beliau sudah melaporkan kewujudan tapak sampah haram di kampung berkenaan kepada Perbadanan Pengurusan Sisa Pepejal dan Pembersihan Awam (SWCorp).', 'Katanya, ia susulan aduan penduduk menyebabkan SWCorp sudah mengambil tindakan susulan risikan dilakukan agensi berkenaan sebelum ini.', '\"Namun nampaknya isu ini masih berulang dengan lori haram masih masuk dan buang sampah selain diburukkan dengan tindakan etnik Rohingya yang turut buang sampah di situ.', '\"Penduduk kampung seharusnya menyekat lori haram ini memasuki kampung mereka selain memberi kesedaran kepada etnik Rohingya supaya tidak membuang sampah sesuka hati.', '\"Penduduk kampung wajib faham kerosakan dan pencemaran sungai ini kosnya mahal apatah lagi kerajaan baru sahaja meluluskan peruntukan RM99.8 juta bagi mengatasi pencemaran Sungai Skudai yang teruk tercemar, selain membersihkan kawasan tapak sampah haram di sekitar pinggir sungai,\" katanya.'], 'url': '/berita/nasional/2024/12/1340061/tapak-buang-sampah-haram-di-pinggir-sungai-skudai-resahkan-penduduk'}, {'title': 'Tiada diskriminasi beri bantuan kepada masyarakat India - Ramanan', 'authorDetails': {'authName': 'Essa Abu Yamin', 'relLink': '/authors/essa-abu-yamin', 'email': 'essabuyamin@bh.com.my'}, 'publishTime': 'Disember 22, 2024 @ 1:56pm', 'articleBrief': 'Ramanan bersama wakil penerima bantuan selepas majlis penyerahan Bantuan Kewangan Rumah-Rumah Ibadat Masyarakat India di Dewan Kalamandapam, Brickfields. - Foto NSTP/Aswadi Alias', 'contents': ['KUALA LUMPUR: Tiada diskriminasi dalam pemberian bantuan kerajaan terutamanya kepada masyarakat India di negara ini, kata Datuk Seri R Ramanan.', 'Timbalan Menteri Pembangunan Usahawan dan Koperasi itu berkata, perkara itu dapat dilihat melalui program bantuan kewangan dilaksanakan Perdana Menteri, Datuk Seri Anwar Ibrahim untuk rumah ibadat komuniti India yang diadakan hari ini.', '\"Peruntukan berkenaan bukan khusus untuk membaik pulih kuil atau gereja sahaja, tetapi ia lebih tertumpu kepada program untuk membantu rakyat di kawasan masing-masing, khususnya penganut agama yang berkaitan.', '\"Sebagai contoh, bagi golongan B40 di kawasan berkenaan, mereka mungkin memerlukan kelas tuisyen atau pembelajaran agama dan pembiayaan itu adalah untuk tujuan terbabit sahaja,\" katanya kepada pemberita selepas menyampaikan bantuan kepada penerima di Majlis Penyerahan Bantuan Kewangan Rumah-Rumah Ibadat Masyarakat India di Dewan Kalamandap di sini, hari ini.', 'Ramanan berkata, sebanyak RM3.17 juta disalurkan kepada 90 rumah ibadat masyarakat India merangkumi 89 kuil dan satu gereja di seluruh negara.', '\"Ia adalah sumbangan khas daripada Perdana Menteri, sekali gus mencerminkan komitmen beliau terhadap masyarakat India di negara ini.', '\"Sebelum ini, saya pernah berkhidmat dengan lima Perdana Menteri dan dalam kebanyakan perkara, jika ada program seperti itu, mereka akan hadir di majlis berkenaan.', '\"Bagaimanapun, Anwar menekankan bahawa tugas atau kerja perlu dilaksanakan walaupun tanpa kehadirannya. ', '\"Disebabkan itu, kami melaksanakan tugas dan tanggungjawab yang telah diamanahkan kepada kami,\" katanya.', 'Sementara itu, mengenai profiling perkauman yang dimain oleh pihak tertentu, Ramanan berkata mereka tidak memahami apa yang dilaksanakan oleh kerajaan terutamanya dalam pemberian bantuan terhadap pelbagai kaum di negara ini.', '\"Ia ibarat seperti seorang akauntan yang tidak tahu Matematik dan dia yang keluarkan isu-isu berkenaan dan itu masalah yang kita (kerajaan) hadapi,\" katanya.', 'Semalam, Anwar menegaskan segala bantuan kemiskinan akan disalurkan tanpa mengira kaum dan segala naratif berkaitan pemprofilan perkauman dalam isu pemberian bantuan serta usaha pembasmian kemiskinan tegar di negara ini dihentikan segera.', 'Anwar, yang juga Menteri Kewangan dilaporkan berkata demikian bagi menjawab dakwaan segelintir pihak mengenai peruntukan tambahan RM130 juta untuk masyarakat India tidak mencukupi. '], 'url': '/berita/nasional/2024/12/1340057/tiada-diskriminasi-beri-bantuan-kepada-masyarakat-india-ramanan'}]\n"
     ]
    },
    {
     "name": "stderr",
     "output_type": "stream",
     "text": [
      "                                                                                "
     ]
    }
   ],
   "source": [
    "from lexicraft.scrapers.bharian_scraper import BHarianScraper\n",
    "from lexicraft.util.kafka import KafkaStreamProducer\n",
    "\n",
    "from pyspark.sql import SparkSession, Row\n",
    "from datetime import datetime, timedelta\n",
    "\n",
    "spark = SparkSession.builder.appName(\"DE-prj\").getOrCreate()\n",
    "bharianScraper = BHarianScraper()\n",
    "# print(\"Scraping article links...\")\n",
    "\n",
    "crawlledUrls = bharianScraper.scrapArticleLinks(datetime(2024,12,22,12,0,0),'/berita/nasional')\n",
    "if len(crawlledUrls) == 0:\n",
    "    print(\"No Article Found\")\n",
    "if crawlledUrls is None:\n",
    "    print('failed to get article links')\n",
    "\n",
    "demo_num_of_article = -1\n",
    "# demo purpose\n",
    "if demo_num_of_article != -1:\n",
    "    crawlledUrls = crawlledUrls[:demo_num_of_article]\n",
    "    print(f\"Current is in demo stage, {demo_num_of_article} number of article(s) will be scrapped\")\n",
    "    \n",
    "url_RDD = spark.sparkContext.parallelize(crawlledUrls)\n",
    "url_RDD = url_RDD.repartition(3)\n",
    "scrappedData = url_RDD.mapPartitions(BHarianScraper.scrapBatchArticle).collect()\n",
    "scrappedData = [data for data in scrappedData if data is not None]\n",
    "scrapped_dict_list = []\n",
    "for data in scrappedData:\n",
    "    if isinstance(data, Row):  \n",
    "        dict_data = data.asDict(recursive = True)\n",
    "        scrapped_dict_list.append(dict_data)\n",
    "\n",
    "kafka_producer = KafkaStreamProducer(topic_name=\"beritaH\")\n",
    "kafka_producer.send_data(scrapped_dict_list)\n",
    "        \n",
    "print(scrapped_dict_list)"
   ]
  }
 ],
 "metadata": {
  "kernelspec": {
   "display_name": "de-venv",
   "language": "python",
   "name": "de-venv"
  },
  "language_info": {
   "codemirror_mode": {
    "name": "ipython",
    "version": 3
   },
   "file_extension": ".py",
   "mimetype": "text/x-python",
   "name": "python",
   "nbconvert_exporter": "python",
   "pygments_lexer": "ipython3",
   "version": "3.10.12"
  }
 },
 "nbformat": 4,
 "nbformat_minor": 5
}
