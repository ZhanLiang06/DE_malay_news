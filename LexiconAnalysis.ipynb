{
 "cells": [
  {
   "cell_type": "markdown",
   "id": "c4f3c7e3-cf12-419f-832f-8c85420cee80",
   "metadata": {},
   "source": [
    "# Lexicon Analysis"
   ]
  },
  {
   "cell_type": "code",
   "execution_count": 3,
   "id": "5e8b2048-3a86-47eb-b8b5-3090f294551e",
   "metadata": {},
   "outputs": [],
   "source": [
    "from lexicraft import Analysis\n",
    "from pyspark.sql import SparkSession\n",
    "uri = \"neo4j+s://231511d9.databases.neo4j.io\"\n",
    "auth = (\"neo4j\", \"m6fWF6qQUe6yGcZ81yAX0XG425OncyOB28A30vI9VvM\") ## using liangzlau personal account\n",
    "spark = SparkSession.builder.appName(\"DE-prj\").getOrCreate()\n",
    "analysis_instance = Analysis(spark,uri,auth)"
   ]
  },
  {
   "cell_type": "code",
   "execution_count": 2,
   "id": "8650d9f3-b0c9-4219-a182-a4e708042dfd",
   "metadata": {},
   "outputs": [
    {
     "name": "stdout",
     "output_type": "stream",
     "text": [
      "Established Connection\n",
      "Successfully retrieved all words no. of words = 842!\n",
      "Message sent to word_length_analysis partition 0 at offset 4\n",
      "Established Connection\n",
      "Successfully run \n",
      "            MATCH (n:WORD)-[:LEMMATIZED]->(lematizedNode)\n",
      "            RETURN DISTINCT lematizedNode.word AS lemmatized\n",
      "        !\n",
      "Message sent to lemma_length_analysis partition 0 at offset 4\n",
      "Established Connection\n",
      "Successfully run \n",
      "        MATCH (n:WORD)\n",
      "        WITH COUNT(n) AS totalWords\n",
      "        MATCH (n:PERIBAHASA)\n",
      "        RETURN totalWords, COUNT(n) AS totalPeri;\n",
      "        !\n",
      "Message sent to lexicon_analysis partition 0 at offset 4\n",
      "Established Connection\n",
      "Successfully retrieved all words no. of words = 842!\n"
     ]
    },
    {
     "name": "stderr",
     "output_type": "stream",
     "text": [
      "[Stage 1:>                                                          (0 + 6) / 6]/home/student/de-prj/de-venv/lib/python3.10/site-packages/malaya/tokenizer.py:214: FutureWarning: Possible nested set at position 3397\n",
      "  self.tok = re.compile(r'({})'.format('|'.join(pipeline)))\n",
      "/home/student/de-prj/de-venv/lib/python3.10/site-packages/malaya/tokenizer.py:214: FutureWarning: Possible nested set at position 3397\n",
      "  self.tok = re.compile(r'({})'.format('|'.join(pipeline)))\n",
      "/home/student/de-prj/de-venv/lib/python3.10/site-packages/malaya/tokenizer.py:214: FutureWarning: Possible nested set at position 3397\n",
      "  self.tok = re.compile(r'({})'.format('|'.join(pipeline)))\n",
      "/home/student/de-prj/de-venv/lib/python3.10/site-packages/malaya/tokenizer.py:214: FutureWarning: Possible nested set at position 3397\n",
      "  self.tok = re.compile(r'({})'.format('|'.join(pipeline)))\n",
      "/home/student/de-prj/de-venv/lib/python3.10/site-packages/malaya/tokenizer.py:214: FutureWarning: Possible nested set at position 3397\n",
      "  self.tok = re.compile(r'({})'.format('|'.join(pipeline)))\n",
      "/home/student/de-prj/de-venv/lib/python3.10/site-packages/malaya/tokenizer.py:214: FutureWarning: Possible nested set at position 3927\n",
      "  self.tok = re.compile(r'({})'.format('|'.join(pipeline)))\n",
      "/home/student/de-prj/de-venv/lib/python3.10/site-packages/malaya/tokenizer.py:214: FutureWarning: Possible nested set at position 3927\n",
      "  self.tok = re.compile(r'({})'.format('|'.join(pipeline)))\n",
      "/home/student/de-prj/de-venv/lib/python3.10/site-packages/malaya/tokenizer.py:214: FutureWarning: Possible nested set at position 3927\n",
      "  self.tok = re.compile(r'({})'.format('|'.join(pipeline)))\n",
      "/home/student/de-prj/de-venv/lib/python3.10/site-packages/malaya/tokenizer.py:214: FutureWarning: Possible nested set at position 3927\n",
      "  self.tok = re.compile(r'({})'.format('|'.join(pipeline)))\n",
      "/home/student/de-prj/de-venv/lib/python3.10/site-packages/malaya/tokenizer.py:214: FutureWarning: Possible nested set at position 3927\n",
      "  self.tok = re.compile(r'({})'.format('|'.join(pipeline)))\n",
      "/home/student/de-prj/de-venv/lib/python3.10/site-packages/malaya/tokenizer.py:214: FutureWarning: Possible nested set at position 3397\n",
      "  self.tok = re.compile(r'({})'.format('|'.join(pipeline)))\n",
      "/home/student/de-prj/de-venv/lib/python3.10/site-packages/malaya/tokenizer.py:214: FutureWarning: Possible nested set at position 3927\n",
      "  self.tok = re.compile(r'({})'.format('|'.join(pipeline)))\n",
      "/home/student/de-prj/de-venv/lib/python3.10/site-packages/malaya/model/stem.py:28: FutureWarning: Possible nested set at position 3\n",
      "  or re.findall(_expressions['ic'], word.lower())\n",
      "/home/student/de-prj/de-venv/lib/python3.10/site-packages/malaya/model/stem.py:28: FutureWarning: Possible nested set at position 3\n",
      "  or re.findall(_expressions['ic'], word.lower())\n",
      "/home/student/de-prj/de-venv/lib/python3.10/site-packages/malaya/model/stem.py:28: FutureWarning: Possible nested set at position 3\n",
      "  or re.findall(_expressions['ic'], word.lower())\n",
      "/home/student/de-prj/de-venv/lib/python3.10/site-packages/malaya/model/stem.py:28: FutureWarning: Possible nested set at position 3\n",
      "  or re.findall(_expressions['ic'], word.lower())\n",
      "/home/student/de-prj/de-venv/lib/python3.10/site-packages/malaya/model/stem.py:28: FutureWarning: Possible nested set at position 3\n",
      "  or re.findall(_expressions['ic'], word.lower())\n",
      "/home/student/de-prj/de-venv/lib/python3.10/site-packages/malaya/model/stem.py:28: FutureWarning: Possible nested set at position 3\n",
      "  or re.findall(_expressions['ic'], word.lower())\n",
      "                                                                                "
     ]
    },
    {
     "name": "stdout",
     "output_type": "stream",
     "text": [
      "Message sent to morphological_analysis partition 0 at offset 2\n",
      "Established Connection\n",
      "Successfully run \n",
      "            MATCH (n:WORD)\n",
      "            RETURN n.POS AS pos, COUNT(n) AS total_count\n",
      "            ORDER BY total_count DESC\n",
      "            !\n",
      "Message sent to POSDistribution partition 0 at offset 2\n",
      "Established Connection\n",
      "Successfully run \n",
      "            MATCH (n:WORD)\n",
      "            RETURN n.Label AS label, COUNT(n) AS total_count\n",
      "            ORDER BY total_count DESC\n",
      "            !\n",
      "Message sent to sentiment_dist_analysis partition 0 at offset 2\n",
      "Established Connection\n",
      "Successfully run \n",
      "            MATCH (n:WORD)\n",
      "            RETURN n.word AS word, n.word_count AS count\n",
      "            ORDER BY n.word_count DESC\n",
      "            LIMIT 15\n",
      "            !\n",
      "Message sent to word_freq_with_stopwords partition 0 at offset 2\n",
      "Established Connection\n",
      "Successfully run \n",
      "            MATCH (n:WORD)\n",
      "            RETURN n.word AS word, n.word_count AS count\n",
      "            ORDER BY n.word_count DESC\n",
      "            LIMIT 1500\n",
      "            !\n",
      "Message sent to word_freq_without_stopwords partition 0 at offset 2\n"
     ]
    }
   ],
   "source": [
    "analysis_instance.word_length_analysis()\n",
    "analysis_instance.lemma_length_analysis()\n",
    "analysis_instance.lexicon_analysis()\n",
    "analysis_instance.morphological_analysis() \n",
    "analysis_instance.POSDistribution()\n",
    "analysis_instance.sentiment_dist()\n",
    "analysis_instance.word_freq_with_stopwords()\n",
    "analysis_instance.word_freq_without_stopwords()"
   ]
  }
 ],
 "metadata": {
  "kernelspec": {
   "display_name": "de-venv",
   "language": "python",
   "name": "de-venv"
  },
  "language_info": {
   "codemirror_mode": {
    "name": "ipython",
    "version": 3
   },
   "file_extension": ".py",
   "mimetype": "text/x-python",
   "name": "python",
   "nbconvert_exporter": "python",
   "pygments_lexer": "ipython3",
   "version": "3.10.12"
  }
 },
 "nbformat": 4,
 "nbformat_minor": 5
}
