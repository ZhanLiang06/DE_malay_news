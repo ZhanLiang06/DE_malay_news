{
 "cells": [
  {
   "cell_type": "markdown",
   "id": "c4f3c7e3-cf12-419f-832f-8c85420cee80",
   "metadata": {},
   "source": [
    "# Lexicon Analysis"
   ]
  },
  {
   "cell_type": "code",
   "execution_count": 3,
   "id": "5e8b2048-3a86-47eb-b8b5-3090f294551e",
   "metadata": {},
   "outputs": [],
   "source": [
    "from lexicraft import Analysis\n",
    "from pyspark.sql import SparkSession\n",
    "uri = \"neo4j+s://231511d9.databases.neo4j.io\"\n",
    "auth = (\"neo4j\", \"m6fWF6qQUe6yGcZ81yAX0XG425OncyOB28A30vI9VvM\") ## using liangzlau personal account\n",
    "spark = SparkSession.builder.appName(\"DE-prj\").getOrCreate()\n",
    "analysis_instance = Analysis(spark,uri,auth)"
   ]
  },
  {
   "cell_type": "code",
   "execution_count": 2,
   "id": "8650d9f3-b0c9-4219-a182-a4e708042dfd",
   "metadata": {
    "scrolled": true
   },
   "outputs": [
    {
     "name": "stdout",
     "output_type": "stream",
     "text": [
      "Established Connection\n",
      "Successfully retrieved all words no. of words = 842!\n",
      "Message sent to word_length_analysis partition 0 at offset 4\n",
      "Established Connection\n",
      "Successfully run \n",
      "            MATCH (n:WORD)-[:LEMMATIZED]->(lematizedNode)\n",
      "            RETURN DISTINCT lematizedNode.word AS lemmatized\n",
      "        !\n",
      "Message sent to lemma_length_analysis partition 0 at offset 4\n",
      "Established Connection\n",
      "Successfully run \n",
      "        MATCH (n:WORD)\n",
      "        WITH COUNT(n) AS totalWords\n",
      "        MATCH (n:PERIBAHASA)\n",
      "        RETURN totalWords, COUNT(n) AS totalPeri;\n",
      "        !\n",
      "Message sent to lexicon_analysis partition 0 at offset 4\n",
      "Established Connection\n",
      "Successfully retrieved all words no. of words = 842!\n"
     ]
    },
    {
     "name": "stderr",
     "output_type": "stream",
     "text": [
      "[Stage 1:>                                                          (0 + 6) / 6]/home/student/de-prj/de-venv/lib/python3.10/site-packages/malaya/tokenizer.py:214: FutureWarning: Possible nested set at position 3397\n",
      "  self.tok = re.compile(r'({})'.format('|'.join(pipeline)))\n",
      "/home/student/de-prj/de-venv/lib/python3.10/site-packages/malaya/tokenizer.py:214: FutureWarning: Possible nested set at position 3397\n",
      "  self.tok = re.compile(r'({})'.format('|'.join(pipeline)))\n",
      "/home/student/de-prj/de-venv/lib/python3.10/site-packages/malaya/tokenizer.py:214: FutureWarning: Possible nested set at position 3397\n",
      "  self.tok = re.compile(r'({})'.format('|'.join(pipeline)))\n",
      "/home/student/de-prj/de-venv/lib/python3.10/site-packages/malaya/tokenizer.py:214: FutureWarning: Possible nested set at position 3397\n",
      "  self.tok = re.compile(r'({})'.format('|'.join(pipeline)))\n",
      "/home/student/de-prj/de-venv/lib/python3.10/site-packages/malaya/tokenizer.py:214: FutureWarning: Possible nested set at position 3397\n",
      "  self.tok = re.compile(r'({})'.format('|'.join(pipeline)))\n",
      "/home/student/de-prj/de-venv/lib/python3.10/site-packages/malaya/tokenizer.py:214: FutureWarning: Possible nested set at position 3927\n",
      "  self.tok = re.compile(r'({})'.format('|'.join(pipeline)))\n",
      "/home/student/de-prj/de-venv/lib/python3.10/site-packages/malaya/tokenizer.py:214: FutureWarning: Possible nested set at position 3927\n",
      "  self.tok = re.compile(r'({})'.format('|'.join(pipeline)))\n",
      "/home/student/de-prj/de-venv/lib/python3.10/site-packages/malaya/tokenizer.py:214: FutureWarning: Possible nested set at position 3927\n",
      "  self.tok = re.compile(r'({})'.format('|'.join(pipeline)))\n",
      "/home/student/de-prj/de-venv/lib/python3.10/site-packages/malaya/tokenizer.py:214: FutureWarning: Possible nested set at position 3927\n",
      "  self.tok = re.compile(r'({})'.format('|'.join(pipeline)))\n",
      "/home/student/de-prj/de-venv/lib/python3.10/site-packages/malaya/tokenizer.py:214: FutureWarning: Possible nested set at position 3927\n",
      "  self.tok = re.compile(r'({})'.format('|'.join(pipeline)))\n",
      "/home/student/de-prj/de-venv/lib/python3.10/site-packages/malaya/tokenizer.py:214: FutureWarning: Possible nested set at position 3397\n",
      "  self.tok = re.compile(r'({})'.format('|'.join(pipeline)))\n",
      "/home/student/de-prj/de-venv/lib/python3.10/site-packages/malaya/tokenizer.py:214: FutureWarning: Possible nested set at position 3927\n",
      "  self.tok = re.compile(r'({})'.format('|'.join(pipeline)))\n",
      "/home/student/de-prj/de-venv/lib/python3.10/site-packages/malaya/model/stem.py:28: FutureWarning: Possible nested set at position 3\n",
      "  or re.findall(_expressions['ic'], word.lower())\n",
      "/home/student/de-prj/de-venv/lib/python3.10/site-packages/malaya/model/stem.py:28: FutureWarning: Possible nested set at position 3\n",
      "  or re.findall(_expressions['ic'], word.lower())\n",
      "/home/student/de-prj/de-venv/lib/python3.10/site-packages/malaya/model/stem.py:28: FutureWarning: Possible nested set at position 3\n",
      "  or re.findall(_expressions['ic'], word.lower())\n",
      "/home/student/de-prj/de-venv/lib/python3.10/site-packages/malaya/model/stem.py:28: FutureWarning: Possible nested set at position 3\n",
      "  or re.findall(_expressions['ic'], word.lower())\n",
      "/home/student/de-prj/de-venv/lib/python3.10/site-packages/malaya/model/stem.py:28: FutureWarning: Possible nested set at position 3\n",
      "  or re.findall(_expressions['ic'], word.lower())\n",
      "/home/student/de-prj/de-venv/lib/python3.10/site-packages/malaya/model/stem.py:28: FutureWarning: Possible nested set at position 3\n",
      "  or re.findall(_expressions['ic'], word.lower())\n",
      "                                                                                "
     ]
    },
    {
     "name": "stdout",
     "output_type": "stream",
     "text": [
      "Message sent to morphological_analysis partition 0 at offset 2\n",
      "Established Connection\n",
      "Successfully run \n",
      "            MATCH (n:WORD)\n",
      "            RETURN n.POS AS pos, COUNT(n) AS total_count\n",
      "            ORDER BY total_count DESC\n",
      "            !\n",
      "Message sent to POSDistribution partition 0 at offset 2\n",
      "Established Connection\n",
      "Successfully run \n",
      "            MATCH (n:WORD)\n",
      "            RETURN n.Label AS label, COUNT(n) AS total_count\n",
      "            ORDER BY total_count DESC\n",
      "            !\n",
      "Message sent to sentiment_dist_analysis partition 0 at offset 2\n",
      "Established Connection\n",
      "Successfully run \n",
      "            MATCH (n:WORD)\n",
      "            RETURN n.word AS word, n.word_count AS count\n",
      "            ORDER BY n.word_count DESC\n",
      "            LIMIT 15\n",
      "            !\n",
      "Message sent to word_freq_with_stopwords partition 0 at offset 2\n",
      "Established Connection\n",
      "Successfully run \n",
      "            MATCH (n:WORD)\n",
      "            RETURN n.word AS word, n.word_count AS count\n",
      "            ORDER BY n.word_count DESC\n",
      "            LIMIT 1500\n",
      "            !\n",
      "Message sent to word_freq_without_stopwords partition 0 at offset 2\n"
     ]
    }
   ],
   "source": [
    "analysis_instance.word_length_analysis()\n",
    "analysis_instance.lemma_length_analysis()\n",
    "analysis_instance.lexicon_analysis()\n",
    "analysis_instance.morphological_analysis() \n",
    "analysis_instance.POSDistribution()\n",
    "analysis_instance.sentiment_dist()\n",
    "analysis_instance.word_freq_with_stopwords()\n",
    "analysis_instance.word_freq_without_stopwords()"
   ]
  },
  {
   "cell_type": "markdown",
   "id": "96d15f68-5b35-435a-a4d8-e0dedab9d399",
   "metadata": {},
   "source": [
    "## Instrincis Analysis"
   ]
  },
  {
   "cell_type": "code",
   "execution_count": 1,
   "id": "0a4c1aa7-b89a-4d8e-aca8-dd9ab991f3ff",
   "metadata": {},
   "outputs": [
    {
     "name": "stderr",
     "output_type": "stream",
     "text": [
      "/home/student/de-prj/de-venv/lib/python3.10/site-packages/malaya/tokenizer.py:214: FutureWarning: Possible nested set at position 3397\n",
      "  self.tok = re.compile(r'({})'.format('|'.join(pipeline)))\n",
      "/home/student/de-prj/de-venv/lib/python3.10/site-packages/malaya/tokenizer.py:214: FutureWarning: Possible nested set at position 3927\n",
      "  self.tok = re.compile(r'({})'.format('|'.join(pipeline)))\n",
      "24/12/21 22:31:45 WARN Utils: Your hostname, Liang. resolves to a loopback address: 127.0.1.1; using 10.255.255.254 instead (on interface lo)\n",
      "24/12/21 22:31:45 WARN Utils: Set SPARK_LOCAL_IP if you need to bind to another address\n",
      "24/12/21 22:31:46 WARN NativeCodeLoader: Unable to load native-hadoop library for your platform... using builtin-java classes where applicable\n"
     ]
    }
   ],
   "source": [
    "from lexicraft import Analysis\n",
    "from pyspark.sql import SparkSession\n",
    "uri = \"neo4j+s://231511d9.databases.neo4j.io\"\n",
    "auth = (\"neo4j\", \"m6fWF6qQUe6yGcZ81yAX0XG425OncyOB28A30vI9VvM\") ## using liangzlau personal account\n",
    "spark = SparkSession.builder.appName(\"DE-prj\").getOrCreate()\n",
    "analysis_instance = Analysis(spark,uri,auth)"
   ]
  },
  {
   "cell_type": "markdown",
   "id": "65cb9b3f-4f78-486a-a08b-953ef0ac94fd",
   "metadata": {},
   "source": [
    "### Accuracy"
   ]
  },
  {
   "cell_type": "code",
   "execution_count": 2,
   "id": "1fc15d4e-da5c-41ef-9310-c78ecb3d931b",
   "metadata": {},
   "outputs": [
    {
     "name": "stdout",
     "output_type": "stream",
     "text": [
      "Established Connection\n",
      "Successfully run \n",
      "            MATCH (n:WORD {word: 'cari'})\n",
      "            RETURN n.word AS word, n.definitions AS definitions\n",
      "            LIMIT 1\n",
      "            !\n",
      "Token Overlap Accuracy: 0.38\n"
     ]
    }
   ],
   "source": [
    "Analysis.intrinsic_accuracy(\"cari\",uri,auth)"
   ]
  },
  {
   "cell_type": "markdown",
   "id": "446f60e9-d2a0-4a0b-b435-fd36906b2a76",
   "metadata": {},
   "source": [
    "### Consistency"
   ]
  },
  {
   "cell_type": "code",
   "execution_count": 2,
   "id": "a120d9f8-2936-4167-8455-1bce28ce5074",
   "metadata": {},
   "outputs": [
    {
     "name": "stdout",
     "output_type": "stream",
     "text": [
      "Established Connection\n",
      "Successfully run \n",
      "                MATCH (n:WORD {word: 'perempuan'})\n",
      "                RETURN n.word AS word, n.POS AS pos\n",
      "                LIMIT 1\n",
      "                !\n",
      "Successfully run \n",
      "                MATCH (n:WORD {word: 'polis'})\n",
      "                RETURN n.word AS word, n.POS AS pos\n",
      "                LIMIT 1\n",
      "                !\n",
      "Successfully run \n",
      "                MATCH (n:WORD {word: 'guru'})\n",
      "                RETURN n.word AS word, n.POS AS pos\n",
      "                LIMIT 1\n",
      "                !\n",
      "Successfully run \n",
      "                MATCH (n:WORD {word: 'rumah'})\n",
      "                RETURN n.word AS word, n.POS AS pos\n",
      "                LIMIT 1\n",
      "                !\n",
      "Successfully run \n",
      "                MATCH (n:WORD {word: 'buku'})\n",
      "                RETURN n.word AS word, n.POS AS pos\n",
      "                LIMIT 1\n",
      "                !\n",
      "[[], [{'word': 'polis', 'pos': 'Proper noun'}], [], [], []]\n"
     ]
    }
   ],
   "source": [
    "list_of_words = [\"perempuan\", \"polis\", \"guru\", \"rumah\", \"buku\"]\n",
    "Analysis.intrinsic_consistency(list_of_words,uri,auth)"
   ]
  },
  {
   "cell_type": "markdown",
   "id": "333cefca-08da-4856-8eb2-f4fdbededc38",
   "metadata": {},
   "source": [
    "### Coverage"
   ]
  },
  {
   "cell_type": "code",
   "execution_count": 3,
   "id": "732a12f2-521f-41f0-a788-fe41ec125171",
   "metadata": {},
   "outputs": [
    {
     "name": "stdout",
     "output_type": "stream",
     "text": [
      "Established Connection\n",
      "Successfully run \n",
      "            MATCH (n:WORD)\n",
      "            RETURN n.word AS word, n.word_count AS count, n.definitions AS definitions\n",
      "            ORDER BY n.word_count DESC\n",
      "            LIMIT 1000\n",
      "            !\n",
      "Total Words: 1000\n",
      "Covered Words: 997\n",
      "Coverage Percentage: 99.70%\n",
      "\n",
      "Example of Not Covered Words:\n",
      "menganak, sewajar, parwah\n",
      "Message sent to intrinsic_coverage partition 0 at offset 0\n"
     ]
    }
   ],
   "source": [
    "analysis_instance.intrinsic_coverage()"
   ]
  },
  {
   "cell_type": "markdown",
   "id": "f2333b32-65df-4fb1-9df1-6681a8e3bd71",
   "metadata": {},
   "source": [
    "## Extrinsic Evaluation"
   ]
  },
  {
   "cell_type": "markdown",
   "id": "2f87fdcd-c5e2-47ec-af28-b1c05bfae724",
   "metadata": {},
   "source": [
    "### Word Sentiment"
   ]
  },
  {
   "cell_type": "code",
   "execution_count": 2,
   "id": "4746f47a-710d-4919-89b3-79a2a4dd5a39",
   "metadata": {},
   "outputs": [
    {
     "name": "stdout",
     "output_type": "stream",
     "text": [
      "Established Connection\n",
      "Successfully run \n",
      "        MATCH (n)\n",
      "        WHERE n.word IS NOT NULL AND n.Label IS NOT NULL\n",
      "            AND n.Label IN ['positive', 'neutral', 'negative']\n",
      "        RETURN n.word AS word, \n",
      "           CASE \n",
      "               WHEN n.Label = 'positive' THEN 1\n",
      "               WHEN n.Label = 'neutral' THEN 0\n",
      "               WHEN n.Label = 'negative' THEN -1\n",
      "           END AS label_int;\n",
      "        !\n",
      "Model trained successfully on the lexicon dataset.\n",
      "Extrinsic Evaluation Accuracy: 0.20\n",
      "\n",
      "Extrinsic Evaluation Classification Report:\n",
      "              precision    recall  f1-score   support\n",
      "\n",
      "    Negative       0.00      0.00      0.00        16\n",
      "     Neutral       0.20      1.00      0.33         7\n",
      "    Positive       0.00      0.00      0.00        12\n",
      "\n",
      "    accuracy                           0.20        35\n",
      "   macro avg       0.07      0.33      0.11        35\n",
      "weighted avg       0.04      0.20      0.07        35\n",
      "\n"
     ]
    },
    {
     "name": "stderr",
     "output_type": "stream",
     "text": [
      "/home/student/de-prj/de-venv/lib/python3.10/site-packages/sklearn/feature_extraction/text.py:517: UserWarning: The parameter 'token_pattern' will not be used since 'tokenizer' is not None'\n",
      "  warnings.warn(\n",
      "/home/student/de-prj/de-venv/lib/python3.10/site-packages/sklearn/metrics/_classification.py:1565: UndefinedMetricWarning: Precision is ill-defined and being set to 0.0 in labels with no predicted samples. Use `zero_division` parameter to control this behavior.\n",
      "  _warn_prf(average, modifier, f\"{metric.capitalize()} is\", len(result))\n",
      "/home/student/de-prj/de-venv/lib/python3.10/site-packages/sklearn/metrics/_classification.py:1565: UndefinedMetricWarning: Precision is ill-defined and being set to 0.0 in labels with no predicted samples. Use `zero_division` parameter to control this behavior.\n",
      "  _warn_prf(average, modifier, f\"{metric.capitalize()} is\", len(result))\n",
      "/home/student/de-prj/de-venv/lib/python3.10/site-packages/sklearn/metrics/_classification.py:1565: UndefinedMetricWarning: Precision is ill-defined and being set to 0.0 in labels with no predicted samples. Use `zero_division` parameter to control this behavior.\n",
      "  _warn_prf(average, modifier, f\"{metric.capitalize()} is\", len(result))\n"
     ]
    },
    {
     "data": {
      "image/png": "[encoded data removed]",
      "text/plain": [
       "<Figure size 800x600 with 2 Axes>"
      ]
     },
     "metadata": {},
     "output_type": "display_data"
    }
   ],
   "source": [
    "Analysis.extrinsic_word_sentiment('word_sample.csv',uri,auth)"
   ]
  },
  {
   "cell_type": "code",
   "execution_count": null,
   "id": "b03986c1-23cc-4a3a-b099-a308b2b4ce09",
   "metadata": {},
   "outputs": [],
   "source": []
  }
 ],
 "metadata": {
  "kernelspec": {
   "display_name": "de-venv",
   "language": "python",
   "name": "de-venv"
  },
  "language_info": {
   "codemirror_mode": {
    "name": "ipython",
    "version": 3
   },
   "file_extension": ".py",
   "mimetype": "text/x-python",
   "name": "python",
   "nbconvert_exporter": "python",
   "pygments_lexer": "ipython3",
   "version": "3.10.12"
  }
 },
 "nbformat": 4,
 "nbformat_minor": 5
}
