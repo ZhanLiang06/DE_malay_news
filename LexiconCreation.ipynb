{
 "cells": [
  {
   "cell_type": "markdown",
   "id": "cd111a0f-d420-4d12-b7be-38c117eb0cec",
   "metadata": {},
   "source": [
    "# Lexicon Creation"
   ]
  },
  {
   "cell_type": "code",
   "execution_count": null,
   "id": "7b2498eb-05b3-448b-9f74-360ea6064f15",
   "metadata": {},
   "outputs": [],
   "source": [
    "#pip install symspellpy\n",
    "from PyClasses.Processes.LexiconBuilder import LexiconBuilder\n",
    "from pyspark.sql import SparkSession\n",
    "from PyClasses.Neo4j.lexicon_nodes import LexiconNodeManager\n",
    "\n",
    "uri = \"neo4j+s://bb539a73.databases.neo4j.io\"\n",
    "auth = (\"neo4j\", \"nHf-IeFSY8xVQvFU4UEaLs0ugES0uD7R-lR8mGgxt9w\")\n",
    "spark = SparkSession.builder.appName(\"DE-prj\").getOrCreate()\n",
    "lexiconBuilder = LexiconBuilder(spark,uri,auth)\n",
    "try:\n",
    "    lnm = LexiconNodeManager(uri, auth)\n",
    "    lnm.clear_db()\n",
    "    lexiconBuilder.build_lexicon()\n",
    "    lexiconBuilder.build_peribahasa()\n",
    "finally:\n",
    "    pass"
   ]
  }
 ],
 "metadata": {
  "kernelspec": {
   "display_name": "de-venv",
   "language": "python",
   "name": "de-venv"
  },
  "language_info": {
   "codemirror_mode": {
    "name": "ipython",
    "version": 3
   },
   "file_extension": ".py",
   "mimetype": "text/x-python",
   "name": "python",
   "nbconvert_exporter": "python",
   "pygments_lexer": "ipython3",
   "version": "3.10.12"
  }
 },
 "nbformat": 4,
 "nbformat_minor": 5
}
