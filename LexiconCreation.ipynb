{
 "cells": [
  {
   "cell_type": "markdown",
   "id": "cd111a0f-d420-4d12-b7be-38c117eb0cec",
   "metadata": {},
   "source": [
    "# Lexicon Creation"
   ]
  },
  {
   "cell_type": "code",
   "execution_count": 14,
   "id": "f8b4a4aa-9ef6-4526-bfe9-17999fba8b07",
   "metadata": {},
   "outputs": [
    {
     "name": "stderr",
     "output_type": "stream",
     "text": [
      "24/12/15 00:10:36 WARN Utils: Service 'SparkUI' could not bind on port 4040. Attempting port 4041.\n",
      "24/12/15 00:10:36 WARN Utils: Service 'SparkUI' could not bind on port 4041. Attempting port 4042.\n"
     ]
    },
    {
     "name": "stdout",
     "output_type": "stream",
     "text": [
      "+-----------+-----+\n",
      "|word       |count|\n",
      "+-----------+-----+\n",
      "|aasad      |1    |\n",
      "|ab         |7    |\n",
      "|abad       |2    |\n",
      "|abang      |17   |\n",
      "|abbasi     |1    |\n",
      "|abd        |8    |\n",
      "|abdalrahman|1    |\n",
      "|abdllah    |1    |\n",
      "|abdul      |26   |\n",
      "|abdullah   |15   |\n",
      "|abiden     |1    |\n",
      "|abu        |8    |\n",
      "|abun       |1    |\n",
      "|acara      |6    |\n",
      "|acis       |1    |\n",
      "|ackht      |2    |\n",
      "|acp        |2    |\n",
      "|act        |1    |\n",
      "|acuan      |1    |\n",
      "|ada        |139  |\n",
      "+-----------+-----+\n",
      "only showing top 20 rows\n",
      "\n",
      "+--------------+----------+\n",
      "|word          |sum(count)|\n",
      "+--------------+----------+\n",
      "|art           |1         |\n",
      "|bersepadu     |7         |\n",
      "|cerakah       |1         |\n",
      "|chor          |1         |\n",
      "|dianugerahkan |1         |\n",
      "|direka        |1         |\n",
      "|drgs          |4         |\n",
      "|generasi      |4         |\n",
      "|generik       |4         |\n",
      "|gua           |29        |\n",
      "|hantaran      |15        |\n",
      "|hingga        |62        |\n",
      "|input         |1         |\n",
      "|jahat         |2         |\n",
      "|kanak-kanak   |15        |\n",
      "|kapasiti      |7         |\n",
      "|ketidakpastian|1         |\n",
      "|kkr           |3         |\n",
      "|menangguhkan  |4         |\n",
      "|mengenepikan  |1         |\n",
      "+--------------+----------+\n",
      "only showing top 20 rows\n",
      "\n",
      "52083\n"
     ]
    }
   ],
   "source": [
    "from pyspark.sql import SparkSession\n",
    "from pyspark.sql.functions import split\n",
    "spark = SparkSession.builder \\\n",
    "        .appName(\"DE-prj\") \\\n",
    "        .getOrCreate()\n",
    "try:\n",
    "    file_path = \"DE-prj/MR_WC_Result/part-00000\"\n",
    "    \n",
    "    # Read the file from HDFS\n",
    "    df = spark.read.text(file_path)\n",
    "    \n",
    "    # Split each line by tab ('\\t') into two columns: word and count\n",
    "    df_split = df.select(split(df['value'], '\\t').alias('word_count'))\n",
    "    \n",
    "    # Now, we need to create two separate columns: 'word' and 'count'\n",
    "    df_final = df_split.select(\n",
    "        df_split['word_count'].getItem(0).alias('word'),  # First item is the word\n",
    "        df_split['word_count'].getItem(1).cast('int').alias('count')  # Second item is the count, cast it to integer\n",
    "    )\n",
    "    \n",
    "    # Show the first few rows to verify\n",
    "    df_final.show(truncate=False)\n",
    "    \n",
    "    # If you want to do further operations, such as aggregating the counts by word, you can do that\n",
    "    word_counts = df_final.groupBy(\"word\").sum(\"count\").alias(\"total_count\")\n",
    "    total_word_count = df_final.agg({'count': 'sum'}).collect()[0][0]\n",
    "    # Show the word counts\n",
    "    word_counts.show(truncate=False)\n",
    "    print(total_word_count)\n",
    "finally:\n",
    "    spark.stop()"
   ]
  }
 ],
 "metadata": {
  "kernelspec": {
   "display_name": "de-venv",
   "language": "python",
   "name": "de-venv"
  },
  "language_info": {
   "codemirror_mode": {
    "name": "ipython",
    "version": 3
   },
   "file_extension": ".py",
   "mimetype": "text/x-python",
   "name": "python",
   "nbconvert_exporter": "python",
   "pygments_lexer": "ipython3",
   "version": "3.10.12"
  }
 },
 "nbformat": 4,
 "nbformat_minor": 5
}
