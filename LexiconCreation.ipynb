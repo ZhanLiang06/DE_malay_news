{
 "cells": [
  {
   "cell_type": "markdown",
   "id": "cd111a0f-d420-4d12-b7be-38c117eb0cec",
   "metadata": {},
   "source": [
    "# Lexicon Creation"
   ]
  },
  {
   "cell_type": "code",
   "execution_count": null,
   "id": "f8b4a4aa-9ef6-4526-bfe9-17999fba8b07",
   "metadata": {},
   "outputs": [
    {
     "name": "stderr",
     "output_type": "stream",
     "text": [
      "/home/student/de-prj/de-venv/lib/python3.10/site-packages/tqdm/auto.py:21: TqdmWarning: IProgress not found. Please update jupyter and ipywidgets. See https://ipywidgets.readthedocs.io/en/stable/user_install.html\n",
      "  from .autonotebook import tqdm as notebook_tqdm\n",
      "/home/student/de-prj/de-venv/lib/python3.10/site-packages/malaya/tokenizer.py:214: FutureWarning: Possible nested set at position 3397\n",
      "  self.tok = re.compile(r'({})'.format('|'.join(pipeline)))\n",
      "/home/student/de-prj/de-venv/lib/python3.10/site-packages/malaya/tokenizer.py:214: FutureWarning: Possible nested set at position 3927\n",
      "  self.tok = re.compile(r'({})'.format('|'.join(pipeline)))\n",
      "24/12/15 02:35:33 WARN Utils: Your hostname, Liang. resolves to a loopback address: 127.0.1.1; using 10.255.255.254 instead (on interface lo)\n",
      "24/12/15 02:35:33 WARN Utils: Set SPARK_LOCAL_IP if you need to bind to another address\n",
      "24/12/15 02:35:33 WARN NativeCodeLoader: Unable to load native-hadoop library for your platform... using builtin-java classes where applicable\n"
     ]
    }
   ],
   "source": [
    "from pyspark.sql import SparkSession\n",
    "from pyspark.sql.functions import split\n",
    "from PyClasses.Scrapers.PRPMScraper import PRPMScraper\n",
    "from PyClasses.Preprocessing.PRPMCleaner import PRPMCleaner\n",
    "\n",
    "class LexiconBuilder:\n",
    "    def __init__(self, spark):\n",
    "        self.spark = spark\n",
    "        \n",
    "    def get_reduced_words(self):\n",
    "        try:\n",
    "            file_path = \"DE-prj/MR_WC_Result/part-00000\"\n",
    "            df = self.spark.read.text(file_path)\n",
    "            df_split = df.select(split(df['value'], '\\t').alias('word_count'))\n",
    "            df_final = df_split.select(\n",
    "                df_split['word_count'].getItem(0).alias('word'),  # First item is the word\n",
    "                df_split['word_count'].getItem(1).cast('int').alias('count')  # Second item is the count, cast it to integer\n",
    "            )\n",
    "            return df_final.collect()\n",
    "        except:\n",
    "            return None\n",
    "\n",
    "    def get_words_properties(self):\n",
    "        df = self.get_reduced_words()\n",
    "        PRPMscrap = PRPMScraper(PRPMCleaner())\n",
    "        broadCastPRPMScrap_obj = spark.sparkContext.broadcast(PRPMscrap)\n",
    "        def get_word_metadata(row):\n",
    "            print(row)\n",
    "            PRPMscrapper = PRPMScraper(PRPMCleaner())\n",
    "            result = PRPMscrapper.findWordMetaData(row.word)\n",
    "            print(result)\n",
    "            return result\n",
    "        #find all words meaning from prpm\n",
    "        wordRows_rdd = self.spark.sparkContext.parallelize(df)\n",
    "        result = wordRows_rdd.map(get_word_metadata).collect()\n",
    "        return result\n",
    "        \n",
    "spark = SparkSession.builder.appName(\"DE-prj\").getOrCreate()\n",
    "lexiconBuilder = LexiconBuilder(spark)\n",
    "try:\n",
    "    hello = lexiconBuilder.get_words_properties()\n",
    "finally:\n",
    "    spark.stop()\n",
    "    # Word, wordcount, synonym, antonym, definition, stemmed"
   ]
  },
  {
   "cell_type": "code",
   "execution_count": 2,
   "id": "f6e67c50-e429-42a7-9066-7853338c18f2",
   "metadata": {},
   "outputs": [
    {
     "ename": "TypeError",
     "evalue": "object of type 'PipelinedRDD' has no len()",
     "output_type": "error",
     "traceback": [
      "\u001b[0;31m---------------------------------------------------------------------------\u001b[0m",
      "\u001b[0;31mTypeError\u001b[0m                                 Traceback (most recent call last)",
      "Cell \u001b[0;32mIn[2], line 1\u001b[0m\n\u001b[0;32m----> 1\u001b[0m \u001b[38;5;28mprint\u001b[39m(\u001b[38;5;28;43mlen\u001b[39;49m\u001b[43m(\u001b[49m\u001b[43mhello\u001b[49m\u001b[43m)\u001b[49m)\n",
      "\u001b[0;31mTypeError\u001b[0m: object of type 'PipelinedRDD' has no len()"
     ]
    }
   ],
   "source": [
    "print(len(hello))"
   ]
  }
 ],
 "metadata": {
  "kernelspec": {
   "display_name": "de-venv",
   "language": "python",
   "name": "de-venv"
  },
  "language_info": {
   "codemirror_mode": {
    "name": "ipython",
    "version": 3
   },
   "file_extension": ".py",
   "mimetype": "text/x-python",
   "name": "python",
   "nbconvert_exporter": "python",
   "pygments_lexer": "ipython3",
   "version": "3.10.12"
  }
 },
 "nbformat": 4,
 "nbformat_minor": 5
}
