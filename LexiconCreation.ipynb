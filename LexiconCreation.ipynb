{
 "cells": [
  {
   "cell_type": "markdown",
   "id": "cd111a0f-d420-4d12-b7be-38c117eb0cec",
   "metadata": {},
   "source": [
    "# Lexicon Creation"
   ]
  },
  {
   "cell_type": "code",
   "execution_count": null,
   "id": "f8b4a4aa-9ef6-4526-bfe9-17999fba8b07",
   "metadata": {},
   "outputs": [
    {
     "name": "stderr",
     "output_type": "stream",
     "text": [
      "                                                                                "
     ]
    },
    {
     "name": "stdout",
     "output_type": "stream",
     "text": [
      "+-----------+-----+\n",
      "|       word|count|\n",
      "+-----------+-----+\n",
      "|         ab|    3|\n",
      "|       abai|    1|\n",
      "|        abc|    1|\n",
      "|        abd|    1|\n",
      "|      abdul|   19|\n",
      "|    abiddin|    1|\n",
      "|      abong|    1|\n",
      "|        abu|    2|\n",
      "|         ac|    4|\n",
      "|      acara|    5|\n",
      "|accelerator|    2|\n",
      "|         ad|    1|\n",
      "|        ada|   52|\n",
      "|     adakan|    1|\n",
      "|     adalah|   43|\n",
      "|       adam|    1|\n",
      "|     adanya|    2|\n",
      "|        ade|    1|\n",
      "|       adek|    1|\n",
      "|       adik|    6|\n",
      "+-----------+-----+\n",
      "only showing top 20 rows\n",
      "\n"
     ]
    },
    {
     "name": "stderr",
     "output_type": "stream",
     "text": [
      "[Stage 5:>                                                          (0 + 4) / 4]/home/student/de-prj/de-venv/lib/python3.10/site-packages/malaya/tokenizer.py:214: FutureWarning: Possible nested set at position 3397\n",
      "  self.tok = re.compile(r'({})'.format('|'.join(pipeline)))\n",
      "/home/student/de-prj/de-venv/lib/python3.10/site-packages/malaya/tokenizer.py:214: FutureWarning: Possible nested set at position 3927\n",
      "  self.tok = re.compile(r'({})'.format('|'.join(pipeline)))\n",
      "/home/student/de-prj/de-venv/lib/python3.10/site-packages/malaya/tokenizer.py:214: FutureWarning: Possible nested set at position 3397\n",
      "  self.tok = re.compile(r'({})'.format('|'.join(pipeline)))\n",
      "/home/student/de-prj/de-venv/lib/python3.10/site-packages/malaya/tokenizer.py:214: FutureWarning: Possible nested set at position 3927\n",
      "  self.tok = re.compile(r'({})'.format('|'.join(pipeline)))\n",
      "/home/student/de-prj/de-venv/lib/python3.10/site-packages/malaya/tokenizer.py:214: FutureWarning: Possible nested set at position 3397\n",
      "  self.tok = re.compile(r'({})'.format('|'.join(pipeline)))\n",
      "/home/student/de-prj/de-venv/lib/python3.10/site-packages/malaya/tokenizer.py:214: FutureWarning: Possible nested set at position 3927\n",
      "  self.tok = re.compile(r'({})'.format('|'.join(pipeline)))\n",
      "/home/student/de-prj/de-venv/lib/python3.10/site-packages/malaya/tokenizer.py:214: FutureWarning: Possible nested set at position 3397\n",
      "  self.tok = re.compile(r'({})'.format('|'.join(pipeline)))\n",
      "/home/student/de-prj/de-venv/lib/python3.10/site-packages/malaya/tokenizer.py:214: FutureWarning: Possible nested set at position 3927\n",
      "  self.tok = re.compile(r'({})'.format('|'.join(pipeline)))\n"
     ]
    }
   ],
   "source": [
    "#pip install symspellpy\n",
    "from pyspark.sql import SparkSession\n",
    "from pyspark.sql.functions import split\n",
    "from PyClasses.Scrapers.PRPMScraper import PRPMScraper\n",
    "from PyClasses.Preprocessing.PRPMCleaner import PRPMCleaner\n",
    "from datetime import datetime, timedelta\n",
    "\n",
    "import malaya.stem\n",
    "\n",
    "class LexiconBuilder:\n",
    "    def __init__(self, spark):\n",
    "        self.spark = spark\n",
    "        \n",
    "    def get_reduced_words(self):\n",
    "        try:\n",
    "            file_path = \"DE-prj/MR_WC_Result/part-00000\"\n",
    "            df = self.spark.read.text(file_path)\n",
    "            df_split = df.select(split(df['value'], '\\t').alias('word_count'))\n",
    "            df_final = df_split.select(\n",
    "                df_split['word_count'].getItem(0).alias('word'),  # First item is the word\n",
    "                df_split['word_count'].getItem(1).cast('int').alias('count')  # Second item is the count, cast it to integer\n",
    "            )\n",
    "            return df_final\n",
    "        except:\n",
    "            return None\n",
    "\n",
    "\n",
    "    def get_words_properties(self):\n",
    "        df = self.get_reduced_words()\n",
    "        PRPMscrap = PRPMScraper()\n",
    "        modelBC = spark.sparkContext.broadcast(malaya.stem.huggingface())\n",
    "        def get_word_metadata(rows):\n",
    "            result = []\n",
    "            PRPMscrap = PRPMScraper()\n",
    "            model = modelBC.value\n",
    "            for row in rows:\n",
    "                singleResult = PRPMscrap.findWordMetaData(row.word)\n",
    "                if singleResult is not None:\n",
    "                    singleResult[row.word][\"base\"] = model.stem(row.word)\n",
    "                    singleResult[row.word][\"count\"] = row[\"count\"]\n",
    "                    print(f'Ori:{row.word}, base:{singleResult[row.word][\"base\"]}, count:{singleResult[row.word][\"count\"]}')\n",
    "                    result.append(singleResult)\n",
    "            return result\n",
    "        def get_word_metadata_single(row):\n",
    "            print(row.word)\n",
    "            return broadCastPRPMScrap_obj.value.findWordMetaData(row.word)\n",
    "        #find all words meaning from prpm\n",
    "        #wordRows_rdd = self.spark.sparkContext.parallelize(df)\n",
    "        df.show()\n",
    "        wordRows_rdd = df.rdd.repartition(4)\n",
    "        timeNow = datetime.now() \n",
    "        wordRows_rdd.foreachPartition(get_word_metadata)\n",
    "        timeEnd =  datetime.now() \n",
    "        timeTaken = timeEnd - timeNow\n",
    "        print(f'Processing Start Time: {timeNow}')\n",
    "        print(f'Processing End Time: {timeEnd}')\n",
    "        print(f'Total Time Taken: {timeTaken}')\n",
    "        return 'success'\n",
    "        \n",
    "spark = SparkSession.builder.appName(\"DE-prj\").getOrCreate()\n",
    "lexiconBuilder = LexiconBuilder(spark)\n",
    "try:\n",
    "    lexiconBuilder.get_words_properties()\n",
    "finally:\n",
    "    pass\n",
    "    # Word, wordcount, synonym, antonym, definition, stemmed"
   ]
  },
  {
   "cell_type": "code",
   "execution_count": 23,
   "id": "f6e67c50-e429-42a7-9066-7853338c18f2",
   "metadata": {},
   "outputs": [
    {
     "data": {
      "text/plain": [
       "{'mesolitica/stem-lstm-512': {'Size (MB)': 35.2,\n",
       "  'hidden size': 512,\n",
       "  'CER': 0.02549779186652238,\n",
       "  'WER': 0.05448552235248484}}"
      ]
     },
     "execution_count": 23,
     "metadata": {},
     "output_type": "execute_result"
    }
   ],
   "source": [
    "from malaya.stem import available_huggingface\n",
    "available_huggingface"
   ]
  }
 ],
 "metadata": {
  "kernelspec": {
   "display_name": "de-venv",
   "language": "python",
   "name": "de-venv"
  },
  "language_info": {
   "codemirror_mode": {
    "name": "ipython",
    "version": 3
   },
   "file_extension": ".py",
   "mimetype": "text/x-python",
   "name": "python",
   "nbconvert_exporter": "python",
   "pygments_lexer": "ipython3",
   "version": "3.10.12"
  }
 },
 "nbformat": 4,
 "nbformat_minor": 5
}
