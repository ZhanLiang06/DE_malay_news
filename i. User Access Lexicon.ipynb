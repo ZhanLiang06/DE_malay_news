{
 "cells": [
  {
   "cell_type": "code",
   "execution_count": null,
   "id": "ca2feb10-c347-4be9-8900-bf921b72a7d3",
   "metadata": {},
   "outputs": [
    {
     "name": "stderr",
     "output_type": "stream",
     "text": [
      "/home/student/de-prj/de-venv/lib/python3.10/site-packages/malaya/tokenizer.py:214: FutureWarning: Possible nested set at position 3397\n",
      "  self.tok = re.compile(r'({})'.format('|'.join(pipeline)))\n",
      "/home/student/de-prj/de-venv/lib/python3.10/site-packages/malaya/tokenizer.py:214: FutureWarning: Possible nested set at position 3927\n",
      "  self.tok = re.compile(r'({})'.format('|'.join(pipeline)))\n"
     ]
    },
    {
     "name": "stdout",
     "output_type": "stream",
     "text": [
      "=== Lexicon Menu ===\n",
      "[1] Search word or proverb\n",
      "[2] Create new query\n",
      "[3] List all queries\n",
      "[4] Execute queries\n",
      "[0] Exit\n"
     ]
    },
    {
     "name": "stdin",
     "output_type": "stream",
     "text": [
      "\n",
      "Enter your choice (1-3 or 0):  1\n"
     ]
    },
    {
     "name": "stdout",
     "output_type": "stream",
     "text": [
      "==========================================\n"
     ]
    },
    {
     "name": "stdin",
     "output_type": "stream",
     "text": [
      "What Bahasa Melayu word or proverb would you like to find?:\n",
      " aduan\n"
     ]
    },
    {
     "name": "stderr",
     "output_type": "stream",
     "text": [
      "Received notification from DBMS server: {severity: WARNING} {code: Neo.ClientNotification.Statement.UnknownPropertyKeyWarning} {category: UNRECOGNIZED} {title: The provided property key is not in the database} {description: One of the property names in your query is not available in the database, make sure you didn't misspell it or that the label is available when you run this statement in your application (the missing property name is: proverb)} {position: line: 4, column: 40, offset: 110} for query: '\\n            MATCH (n)\\n            WHERE (n:WORD OR n:PERIBAHASA) AND \\n                  (n.word = $term OR n.proverb = $term)\\n            RETURN labels(n) as type\\n            '\n"
     ]
    },
    {
     "name": "stdout",
     "output_type": "stream",
     "text": [
      "\n",
      "=== Hasil Carian (Search Results) ===\n",
      "\n",
      "Perkataan (Word): aduan\n",
      "\n",
      "Definisi (Definitions):\n",
      "1. pertandingan, perlumbaan\n",
      "2. yang diadu, sabungan\n",
      "3. hal atau perkara yang diadukan (diberitahukan)\n",
      "4. hal atau perkara yang diadukan\n",
      "=== Lexicon Menu ===\n",
      "[1] Search word or proverb\n",
      "[2] Create new query\n",
      "[3] List all queries\n",
      "[4] Execute queries\n",
      "[0] Exit\n"
     ]
    },
    {
     "name": "stdin",
     "output_type": "stream",
     "text": [
      "\n",
      "Enter your choice (1-3 or 0):  Ensiklopedia\n"
     ]
    },
    {
     "name": "stdout",
     "output_type": "stream",
     "text": [
      "'Ensiklopedia' is an invalid input. Please try again.\n",
      "=== Lexicon Menu ===\n",
      "[1] Search word or proverb\n",
      "[2] Create new query\n",
      "[3] List all queries\n",
      "[4] Execute queries\n",
      "[0] Exit\n"
     ]
    },
    {
     "name": "stdin",
     "output_type": "stream",
     "text": [
      "\n",
      "Enter your choice (1-3 or 0):  aduan\n"
     ]
    },
    {
     "name": "stdout",
     "output_type": "stream",
     "text": [
      "'aduan' is an invalid input. Please try again.\n",
      "=== Lexicon Menu ===\n",
      "[1] Search word or proverb\n",
      "[2] Create new query\n",
      "[3] List all queries\n",
      "[4] Execute queries\n",
      "[0] Exit\n"
     ]
    },
    {
     "name": "stdin",
     "output_type": "stream",
     "text": [
      "\n",
      "Enter your choice (1-3 or 0):  bestis\n"
     ]
    },
    {
     "name": "stdout",
     "output_type": "stream",
     "text": [
      "'bestis' is an invalid input. Please try again.\n",
      "=== Lexicon Menu ===\n",
      "[1] Search word or proverb\n",
      "[2] Create new query\n",
      "[3] List all queries\n",
      "[4] Execute queries\n",
      "[0] Exit\n"
     ]
    },
    {
     "name": "stdin",
     "output_type": "stream",
     "text": [
      "\n",
      "Enter your choice (1-3 or 0):  besti\n"
     ]
    },
    {
     "name": "stdout",
     "output_type": "stream",
     "text": [
      "'besti' is an invalid input. Please try again.\n",
      "=== Lexicon Menu ===\n",
      "[1] Search word or proverb\n",
      "[2] Create new query\n",
      "[3] List all queries\n",
      "[4] Execute queries\n",
      "[0] Exit\n"
     ]
    },
    {
     "name": "stdin",
     "output_type": "stream",
     "text": [
      "\n",
      "Enter your choice (1-3 or 0):  betis\n"
     ]
    },
    {
     "name": "stdout",
     "output_type": "stream",
     "text": [
      "'betis' is an invalid input. Please try again.\n",
      "=== Lexicon Menu ===\n",
      "[1] Search word or proverb\n",
      "[2] Create new query\n",
      "[3] List all queries\n",
      "[4] Execute queries\n",
      "[0] Exit\n"
     ]
    },
    {
     "name": "stdin",
     "output_type": "stream",
     "text": [
      "\n",
      "Enter your choice (1-3 or 0):  1\n"
     ]
    },
    {
     "name": "stdout",
     "output_type": "stream",
     "text": [
      "==========================================\n"
     ]
    },
    {
     "name": "stdin",
     "output_type": "stream",
     "text": [
      "What Bahasa Melayu word or proverb would you like to find?:\n",
      " betis\n"
     ]
    },
    {
     "name": "stderr",
     "output_type": "stream",
     "text": [
      "Received notification from DBMS server: {severity: WARNING} {code: Neo.ClientNotification.Statement.UnknownPropertyKeyWarning} {category: UNRECOGNIZED} {title: The provided property key is not in the database} {description: One of the property names in your query is not available in the database, make sure you didn't misspell it or that the label is available when you run this statement in your application (the missing property name is: proverb)} {position: line: 4, column: 40, offset: 110} for query: '\\n            MATCH (n)\\n            WHERE (n:WORD OR n:PERIBAHASA) AND \\n                  (n.word = $term OR n.proverb = $term)\\n            RETURN labels(n) as type\\n            '\n"
     ]
    },
    {
     "name": "stdout",
     "output_type": "stream",
     "text": [
      "\n",
      "=== Hasil Carian (Search Results) ===\n",
      "\n",
      "Perkataan (Word): betis\n",
      "\n",
      "Definisi (Definitions):\n",
      "1. bahagian berisi di belakang kaki di bawah lutut (antara lutut dan buku lali)\n",
      "2. sama tumbuhan (pokok), belian, palaquium sahaja. (kamus dewan edisi keempat)\n",
      "3. bahagian kaki di antara lutut dengan buku lali\n",
      "=== Lexicon Menu ===\n",
      "[1] Search word or proverb\n",
      "[2] Create new query\n",
      "[3] List all queries\n",
      "[4] Execute queries\n",
      "[0] Exit\n"
     ]
    },
    {
     "name": "stdin",
     "output_type": "stream",
     "text": [
      "\n",
      "Enter your choice (1-3 or 0):  1\n"
     ]
    },
    {
     "name": "stdout",
     "output_type": "stream",
     "text": [
      "==========================================\n"
     ]
    },
    {
     "name": "stdin",
     "output_type": "stream",
     "text": [
      "What Bahasa Melayu word or proverb would you like to find?:\n",
      " betis\n"
     ]
    },
    {
     "name": "stderr",
     "output_type": "stream",
     "text": [
      "Received notification from DBMS server: {severity: WARNING} {code: Neo.ClientNotification.Statement.UnknownPropertyKeyWarning} {category: UNRECOGNIZED} {title: The provided property key is not in the database} {description: One of the property names in your query is not available in the database, make sure you didn't misspell it or that the label is available when you run this statement in your application (the missing property name is: proverb)} {position: line: 4, column: 40, offset: 110} for query: '\\n            MATCH (n)\\n            WHERE (n:WORD OR n:PERIBAHASA) AND \\n                  (n.word = $term OR n.proverb = $term)\\n            RETURN labels(n) as type\\n            '\n"
     ]
    },
    {
     "name": "stdout",
     "output_type": "stream",
     "text": [
      "\n",
      "=== Hasil Carian (Search Results) ===\n",
      "\n",
      "Perkataan (Word): betis\n",
      "\n",
      "Definisi (Definitions):\n",
      "1. bahagian berisi di belakang kaki di bawah lutut (antara lutut dan buku lali)\n",
      "2. sama tumbuhan (pokok), belian, palaquium sahaja. (kamus dewan edisi keempat)\n",
      "3. bahagian kaki di antara lutut dengan buku lali\n",
      "=== Lexicon Menu ===\n",
      "[1] Search word or proverb\n",
      "[2] Create new query\n",
      "[3] List all queries\n",
      "[4] Execute queries\n",
      "[0] Exit\n"
     ]
    }
   ],
   "source": [
    "from lexicraft.util.neo4j import LexiconNodeManager\n",
    "from lexicraft.util.redis import RedisMenuManager\n",
    "\n",
    "# Neo4j Database credentials\n",
    "# uri = \"neo4j+s://e54149b7.databases.neo4j.io\"\n",
    "# auth = (\"neo4j\", \"22jhcQYf6l4mlObbVX61Ju_Kq9Qp10gyyUXuot4iTX0\")\n",
    "\n",
    "uri = \"neo4j+s://231511d9.databases.neo4j.io\"\n",
    "auth = (\"neo4j\", \"m6fWF6qQUe6yGcZ81yAX0XG425OncyOB28A30vI9VvM\")\n",
    "\n",
    "# Redis configurations\n",
    "host = 'localhost'\n",
    "port = 6379\n",
    "db = 0\n",
    "\n",
    "# Test functions\n",
    "# word1 = 'emak'\n",
    "#peri1 = 'melentur buluh biarlah dari rebungnya'\n",
    "\n",
    "rmm = RedisMenuManager(uri, auth, host, port, db)\n",
    "# result1 = rmm.search_lexicon(word1)\n",
    "#result2 = rmm.search_lexicon(peri1)\n",
    "#print(result2)\n",
    "# #print(f\"{result1}\\n{result2}\")\n",
    "\n",
    "# x = rmm.display_search_results(result1)\n",
    "# y = rmm.display_search_results(result2)\n",
    "#query = \"MATCH (n:PERIBAHASA {proverb: 'melentur buluh biarlah dari rebungnya'}) RETURN n\"\n",
    "#test = rmm.create_new_query(query)\n",
    "\n",
    "#test = rmm.list_all_queries()\n",
    "\n",
    "#rmm.execute_queries()\n",
    "# Test Main Menu\n",
    "main_menu = rmm.main_menu()"
   ]
  }
 ],
 "metadata": {
  "kernelspec": {
   "display_name": "de-venv",
   "language": "python",
   "name": "de-venv"
  },
  "language_info": {
   "codemirror_mode": {
    "name": "ipython",
    "version": 3
   },
   "file_extension": ".py",
   "mimetype": "text/x-python",
   "name": "python",
   "nbconvert_exporter": "python",
   "pygments_lexer": "ipython3",
   "version": "3.10.12"
  }
 },
 "nbformat": 4,
 "nbformat_minor": 5
}
