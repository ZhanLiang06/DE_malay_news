{
 "cells": [
  {
   "cell_type": "code",
   "execution_count": 1,
   "id": "4957d004-e69b-4da4-9f7b-2c6f12350f7c",
   "metadata": {
    "scrolled": true
   },
   "outputs": [
    {
     "name": "stderr",
     "output_type": "stream",
     "text": [
      "/home/student/de-prj/de-venv/lib/python3.10/site-packages/malaya/tokenizer.py:214: FutureWarning: Possible nested set at position 3397\n",
      "  self.tok = re.compile(r'({})'.format('|'.join(pipeline)))\n",
      "/home/student/de-prj/de-venv/lib/python3.10/site-packages/malaya/tokenizer.py:214: FutureWarning: Possible nested set at position 3927\n",
      "  self.tok = re.compile(r'({})'.format('|'.join(pipeline)))\n"
     ]
    }
   ],
   "source": [
    "# Available Topics correspond to the ploting function:\n",
    "# (\"lemma_length_analysis\",plot_lemma_length)\n",
    "# (\"word_length_analysis\",plot_word_length)\n",
    "# (\"lexicon_analysis\", plot_lexicon_analysis)\n",
    "# (\"sentiment_dist_analysis\",plot_sentiment_dist)\n",
    "# (\"word_freq_with_stopwords\",plot_word_freq_with_stopwords)\n",
    "# (\"word_freq_without_stopwords\",plot_word_freq_without_stopwords)\n",
    "# (\"POSDistribution\",plot_POS_distribution)\n",
    "# (\"morphological_analysis\",plot_morphological)\n",
    "import sys\n",
    "import os\n",
    "\n",
    "sys.path.append(os.path.dirname(os.path.abspath(\"DE_malay_news\")) + \"/..\")\n",
    "from lexicraft import AnalysisVisualization"
   ]
  },
  {
   "cell_type": "markdown",
   "id": "c4df0ac7-cf76-4cc2-9a6e-00f3aa3a263a",
   "metadata": {},
   "source": [
    "## Use Spark Structure Streaming to receive analysis result"
   ]
  },
  {
   "cell_type": "code",
   "execution_count": null,
   "id": "07b3f6b7-afc9-4ed6-87da-e0e43dfa6b07",
   "metadata": {},
   "outputs": [
    {
     "name": "stderr",
     "output_type": "stream",
     "text": [
      "24/12/22 15:13:33 WARN Utils: Your hostname, Liang. resolves to a loopback address: 127.0.1.1; using 10.255.255.254 instead (on interface lo)\n",
      "24/12/22 15:13:33 WARN Utils: Set SPARK_LOCAL_IP if you need to bind to another address\n"
     ]
    },
    {
     "name": "stdout",
     "output_type": "stream",
     "text": [
      ":: loading settings :: url = jar:file:/home/hduser/spark/jars/ivy-2.5.1.jar!/org/apache/ivy/core/settings/ivysettings.xml\n"
     ]
    },
    {
     "name": "stderr",
     "output_type": "stream",
     "text": [
      "Ivy Default Cache set to: /home/student/.ivy2/cache\n",
      "The jars for the packages stored in: /home/student/.ivy2/jars\n",
      "org.apache.spark#spark-sql-kafka-0-10_2.13 added as a dependency\n",
      ":: resolving dependencies :: org.apache.spark#spark-submit-parent-0da652b5-11e9-4347-963d-09031fe215c7;1.0\n",
      "\tconfs: [default]\n",
      "\tfound org.apache.spark#spark-sql-kafka-0-10_2.13;3.5.3 in central\n",
      "\tfound org.apache.spark#spark-token-provider-kafka-0-10_2.13;3.5.3 in central\n",
      "\tfound org.apache.kafka#kafka-clients;3.4.1 in central\n",
      "\tfound org.lz4#lz4-java;1.8.0 in central\n",
      "\tfound org.xerial.snappy#snappy-java;1.1.10.5 in central\n",
      "\tfound org.slf4j#slf4j-api;2.0.7 in central\n",
      "\tfound org.apache.hadoop#hadoop-client-runtime;3.3.4 in central\n",
      "\tfound org.apache.hadoop#hadoop-client-api;3.3.4 in central\n",
      "\tfound commons-logging#commons-logging;1.1.3 in central\n",
      "\tfound com.google.code.findbugs#jsr305;3.0.0 in central\n",
      "\tfound org.scala-lang.modules#scala-parallel-collections_2.13;1.0.4 in central\n",
      "\tfound org.apache.commons#commons-pool2;2.11.1 in central\n",
      ":: resolution report :: resolve 307ms :: artifacts dl 9ms\n",
      "\t:: modules in use:\n",
      "\tcom.google.code.findbugs#jsr305;3.0.0 from central in [default]\n",
      "\tcommons-logging#commons-logging;1.1.3 from central in [default]\n",
      "\torg.apache.commons#commons-pool2;2.11.1 from central in [default]\n",
      "\torg.apache.hadoop#hadoop-client-api;3.3.4 from central in [default]\n",
      "\torg.apache.hadoop#hadoop-client-runtime;3.3.4 from central in [default]\n",
      "\torg.apache.kafka#kafka-clients;3.4.1 from central in [default]\n",
      "\torg.apache.spark#spark-sql-kafka-0-10_2.13;3.5.3 from central in [default]\n",
      "\torg.apache.spark#spark-token-provider-kafka-0-10_2.13;3.5.3 from central in [default]\n",
      "\torg.lz4#lz4-java;1.8.0 from central in [default]\n",
      "\torg.scala-lang.modules#scala-parallel-collections_2.13;1.0.4 from central in [default]\n",
      "\torg.slf4j#slf4j-api;2.0.7 from central in [default]\n",
      "\torg.xerial.snappy#snappy-java;1.1.10.5 from central in [default]\n",
      "\t---------------------------------------------------------------------\n",
      "\t|                  |            modules            ||   artifacts   |\n",
      "\t|       conf       | number| search|dwnlded|evicted|| number|dwnlded|\n",
      "\t---------------------------------------------------------------------\n",
      "\t|      default     |   12  |   0   |   0   |   0   ||   12  |   0   |\n",
      "\t---------------------------------------------------------------------\n",
      ":: retrieving :: org.apache.spark#spark-submit-parent-0da652b5-11e9-4347-963d-09031fe215c7\n",
      "\tconfs: [default]\n",
      "\t0 artifacts copied, 12 already retrieved (0kB/7ms)\n",
      "24/12/22 15:13:34 WARN NativeCodeLoader: Unable to load native-hadoop library for your platform... using builtin-java classes where applicable\n",
      "24/12/22 15:13:37 WARN ResolveWriteToStream: Temporary checkpoint location created which is deleted normally when the query didn't fail: /tmp/temporary-7639ff2e-264f-4aad-a842-9163da9b48bd. If it's required to delete it under any circumstances, please set spark.sql.streaming.forceDeleteTempCheckpointLocation to true. Important to know deleting temp checkpoint folder is best effort.\n",
      "24/12/22 15:13:37 WARN ResolveWriteToStream: spark.sql.adaptive.enabled is not supported in streaming DataFrames/Datasets and will be disabled.\n",
      "24/12/22 15:13:38 WARN AdminClientConfig: These configurations '[key.deserializer, value.deserializer, enable.auto.commit, max.poll.records, auto.offset.reset]' were supplied but are not used yet.\n",
      "                                                                                "
     ]
    }
   ],
   "source": [
    "AnalysisVisualization.visualize_analysis_topic_spark_streaming(\"lemma_length_analysis\", AnalysisVisualization.plot_lemma_length, 'localhost:9092', 0)"
   ]
  },
  {
   "cell_type": "code",
   "execution_count": null,
   "id": "cba26cb5-ce44-4b8e-80c9-0ec09fb2d0fd",
   "metadata": {},
   "outputs": [],
   "source": [
    "AnalysisVisualization.visualize_analysis_topic_spark_streaming(\"word_length_analysis\", AnalysisVisualization.plot_word_length, 'localhost:9092', 0)"
   ]
  },
  {
   "cell_type": "code",
   "execution_count": null,
   "id": "e3a520db-cd13-4196-9181-6c7c25d142ef",
   "metadata": {},
   "outputs": [],
   "source": [
    "AnalysisVisualization.visualize_analysis_topic_spark_streaming(\"lexicon_analysis\", AnalysisVisualization.plot_lexicon_analysis, 'localhost:9092', 0)"
   ]
  },
  {
   "cell_type": "code",
   "execution_count": null,
   "id": "4b4fc423-4f72-4fb1-9f20-cc49f02363e9",
   "metadata": {},
   "outputs": [],
   "source": [
    "AnalysisVisualization.visualize_analysis_topic_spark_streaming(\"sentiment_dist_analysis\", AnalysisVisualization.plot_sentiment_dist, 'localhost:9092', 0)"
   ]
  },
  {
   "cell_type": "code",
   "execution_count": null,
   "id": "c582c79b-15fb-4b23-a4b3-454cde7267be",
   "metadata": {},
   "outputs": [],
   "source": [
    "AnalysisVisualization.visualize_analysis_topic_spark_streaming(\"word_freq_with_stopwords\", AnalysisVisualization.plot_word_freq_with_stopwords, 'localhost:9092', 0)"
   ]
  },
  {
   "cell_type": "code",
   "execution_count": null,
   "id": "948fd994-5e31-45df-b7ad-3c5f8e5f4b05",
   "metadata": {},
   "outputs": [],
   "source": [
    "AnalysisVisualization.visualize_analysis_topic_spark_streaming(\"word_freq_without_stopwords\", AnalysisVisualization.plot_word_freq_without_stopwords, 'localhost:9092', 0)"
   ]
  },
  {
   "cell_type": "code",
   "execution_count": null,
   "id": "10dd3a3b-ab39-41ed-b795-5316f1daf87c",
   "metadata": {},
   "outputs": [],
   "source": [
    "AnalysisVisualization.visualize_analysis_topic_spark_streaming(\"POSDistribution\", AnalysisVisualization.plot_POS_distribution, 'localhost:9092', 0)"
   ]
  },
  {
   "cell_type": "code",
   "execution_count": null,
   "id": "03cba35c-9aa4-4a11-818a-cb9a91742752",
   "metadata": {
    "scrolled": true
   },
   "outputs": [],
   "source": [
    "AnalysisVisualization.visualize_analysis_topic_spark_streaming(\"morphological_analysis\", AnalysisVisualization.plot_morphological, 'localhost:9092', 0)"
   ]
  },
  {
   "cell_type": "markdown",
   "id": "2268bad4-e373-44b3-ada7-bf44316effdb",
   "metadata": {},
   "source": [
    "## Use Kafka Consumer To Receive Result"
   ]
  },
  {
   "cell_type": "code",
   "execution_count": null,
   "id": "3ea69163-eab9-4fda-8adb-8628e38f9c5c",
   "metadata": {},
   "outputs": [],
   "source": [
    "AnalysisVisualization.visualize_analysis_topic_kafka(\"lemma_length_analysis\", AnalysisVisualization.plot_lemma_length, False, 'localhost:9092', 0)"
   ]
  },
  {
   "cell_type": "code",
   "execution_count": null,
   "id": "e123bc1c-8d25-4650-8ce4-debf4295acae",
   "metadata": {},
   "outputs": [],
   "source": [
    "AnalysisVisualization.visualize_analysis_topic_kafka(\"word_length_analysis\", AnalysisVisualization.plot_word_length, False, 'localhost:9092', 0)"
   ]
  },
  {
   "cell_type": "code",
   "execution_count": null,
   "id": "362effa6-64b9-40ef-8135-18bef6763939",
   "metadata": {},
   "outputs": [],
   "source": [
    "AnalysisVisualization.visualize_analysis_topic_kafka(\"lexicon_analysis\", AnalysisVisualization.plot_lexicon_analysis, False, 'localhost:9092', 0)"
   ]
  },
  {
   "cell_type": "code",
   "execution_count": null,
   "id": "7d4cd2c4-10dc-4a64-822a-211cb89559d3",
   "metadata": {},
   "outputs": [],
   "source": [
    "AnalysisVisualization.visualize_analysis_topic_kafka(\"sentiment_dist_analysis\", AnalysisVisualization.plot_sentiment_dist, False, 'localhost:9092', 0)"
   ]
  },
  {
   "cell_type": "code",
   "execution_count": null,
   "id": "48b0da23-318c-4476-bf4f-aefc02ea244b",
   "metadata": {},
   "outputs": [],
   "source": [
    "AnalysisVisualization.visualize_analysis_topic_kafka(\"word_freq_with_stopwords\", AnalysisVisualization.plot_word_freq_with_stopwords, False, 'localhost:9092', 0)"
   ]
  },
  {
   "cell_type": "code",
   "execution_count": null,
   "id": "af641859-5363-49bc-9832-60766f517d5c",
   "metadata": {},
   "outputs": [],
   "source": [
    "AnalysisVisualization.visualize_analysis_topic_kafka(\"word_freq_without_stopwords\", AnalysisVisualization.plot_word_freq_without_stopwords, False, 'localhost:9092', 0)"
   ]
  },
  {
   "cell_type": "code",
   "execution_count": null,
   "id": "25ddc47e-5c23-4efb-9900-daf01e72314c",
   "metadata": {},
   "outputs": [],
   "source": [
    "AnalysisVisualization.visualize_analysis_topic_kafka(\"POSDistribution\", AnalysisVisualization.plot_POS_distribution, False, 'localhost:9092', 0)"
   ]
  },
  {
   "cell_type": "code",
   "execution_count": null,
   "id": "bb1a53f2-10d6-4fe5-a9d0-c4ffdcacee39",
   "metadata": {},
   "outputs": [],
   "source": [
    "AnalysisVisualization.visualize_analysis_topic_kafka(\"morphological_analysis\", AnalysisVisualization.plot_morphological, False, 'localhost:9092', 0)"
   ]
  },
  {
   "cell_type": "markdown",
   "id": "30168b96-832d-40d5-bbcd-51aea5825e0e",
   "metadata": {},
   "source": [
    "#### Get Raw Result Data From Kafka"
   ]
  },
  {
   "cell_type": "code",
   "execution_count": null,
   "id": "fbac10b7-25fc-4c70-bfc9-a1b04195f329",
   "metadata": {},
   "outputs": [],
   "source": [
    "message = AnalysisVisualization.get_kafka_topic_latest_message(\"lemma_length_analysis\",'localhost:9092', 0)\n",
    "print(message.value)"
   ]
  },
  {
   "cell_type": "code",
   "execution_count": null,
   "id": "1446ddbd-772b-4ad1-a138-804596da758f",
   "metadata": {},
   "outputs": [],
   "source": [
    "message = AnalysisVisualization.get_kafka_topic_latest_message(\"word_length_analysis\",'localhost:9092', 0)\n",
    "print(message.value)"
   ]
  },
  {
   "cell_type": "code",
   "execution_count": null,
   "id": "814cc8e6-71ac-4004-aed2-6f737250fbe9",
   "metadata": {},
   "outputs": [],
   "source": [
    "message = AnalysisVisualization.get_kafka_topic_latest_message(\"lexicon_analysis\",'localhost:9092', 0)\n",
    "print(message.value)"
   ]
  },
  {
   "cell_type": "code",
   "execution_count": null,
   "id": "ed16a36a-faf2-4d98-acdc-8169ce1fa028",
   "metadata": {},
   "outputs": [],
   "source": [
    "message = AnalysisVisualization.get_kafka_topic_latest_message(\"sentiment_dist_analysis\",'localhost:9092', 0)\n",
    "print(message.value)"
   ]
  },
  {
   "cell_type": "code",
   "execution_count": null,
   "id": "b77201e3-c64d-4e22-8ce0-fc1d44709299",
   "metadata": {},
   "outputs": [],
   "source": [
    "message = AnalysisVisualization.get_kafka_topic_latest_message(\"word_freq_with_stopwords\",'localhost:9092', 0)\n",
    "print(message.value)"
   ]
  },
  {
   "cell_type": "code",
   "execution_count": null,
   "id": "2ddcffb7-0d89-456c-afec-443384b8923c",
   "metadata": {},
   "outputs": [],
   "source": [
    "message = AnalysisVisualization.get_kafka_topic_latest_message(\"word_freq_without_stopwords\",'localhost:9092', 0)\n",
    "print(message.value)"
   ]
  },
  {
   "cell_type": "code",
   "execution_count": null,
   "id": "3102655c-d8bb-4f60-8687-7d0c05bae257",
   "metadata": {},
   "outputs": [],
   "source": [
    "message = AnalysisVisualization.get_kafka_topic_latest_message(\"POSDistribution\",'localhost:9092', 0)\n",
    "print(message.value)"
   ]
  },
  {
   "cell_type": "code",
   "execution_count": null,
   "id": "4a33ae88-d9f8-48ac-b12c-fdea12d9d462",
   "metadata": {},
   "outputs": [],
   "source": [
    "message = AnalysisVisualization.get_kafka_topic_latest_message(\"morphological_analysis\",'localhost:9092', 0)\n",
    "print(message.value)"
   ]
  }
 ],
 "metadata": {
  "kernelspec": {
   "display_name": "de-venv",
   "language": "python",
   "name": "de-venv"
  },
  "language_info": {
   "codemirror_mode": {
    "name": "ipython",
    "version": 3
   },
   "file_extension": ".py",
   "mimetype": "text/x-python",
   "name": "python",
   "nbconvert_exporter": "python",
   "pygments_lexer": "ipython3",
   "version": "3.10.12"
  }
 },
 "nbformat": 4,
 "nbformat_minor": 5
}
