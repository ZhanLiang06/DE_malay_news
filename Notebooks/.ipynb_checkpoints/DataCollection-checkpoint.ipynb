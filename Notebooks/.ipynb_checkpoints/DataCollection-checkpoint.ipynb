{
 "cells": [
  {
   "cell_type": "markdown",
   "id": "b90384b2-932b-45c8-9c7c-2e610ce30624",
   "metadata": {},
   "source": [
    "## PRPM Scrapper"
   ]
  },
  {
   "cell_type": "code",
   "execution_count": 10,
   "id": "f862eafb-e109-4ac2-aba8-6b3f549d76ca",
   "metadata": {
    "scrolled": true
   },
   "outputs": [
    {
     "name": "stdout",
     "output_type": "stream",
     "text": [
      "{'word': 'cari', 'meanings': ['bapa berusaha untuk mendapat (menjumpai dan lain-lain) sesuatu', 'mn harta milik (pencarian)', 'pendapatan, hasil pekerjaan'], 'synonym': [], 'antonym': []}\n"
     ]
    }
   ],
   "source": [
    "from lexicraft.scrapers.prpm_scraper import PRPMScraper\n",
    "PRPMscrap = PRPMScraper()\n",
    "\n",
    "\n",
    "word = 'cari'\n",
    "result = PRPMscrap.findWordMetaData(word)\n",
    "print(result)\n",
    "\n",
    "#found smth can be preprocess if not done here, like there will have '\\xa' character in the result string"
   ]
  },
  {
   "cell_type": "markdown",
   "id": "8e525e09-006d-4809-b451-d69fb1c5a84e",
   "metadata": {},
   "source": [
    "## PERIBAHASA Scrapper"
   ]
  },
  {
   "cell_type": "code",
   "execution_count": null,
   "id": "a3b39cd3-b1e1-4142-b8fa-87622637ad86",
   "metadata": {
    "scrolled": true
   },
   "outputs": [],
   "source": [
    "from lexicraft.scrapers.peri_scraper import PeriScraper\n",
    "PRPMscrap = PRPMScraper()\n",
    "peri_scrap = PeriScraper()\n",
    "\n",
    "proverbs_data_AM = peri_scrap.scrape_page(peri_scrap.AM_Url)\n",
    "print(\"Proverbs from A–M:\")\n",
    "\n",
    "for proverb, meaning in proverbs_data_AM:\n",
    "    print(f\"Peribahasa: {proverb} || Maksud: {meaning}\")\n",
    "\n",
    "proverbs_data_NZ = peri_scrap.scrape_page(peri_scrap.NZ_Url)\n",
    "print(\"\\nProverbs from N–Z:\")\n",
    "\n",
    "for proverb, meaning in proverbs_data_NZ:\n",
    "    print(f\"Peribahasa: {proverb} || Maksud: {meaning}\")"
   ]
  }
 ],
 "metadata": {
  "kernelspec": {
   "display_name": "de-venv",
   "language": "python",
   "name": "de-venv"
  },
  "language_info": {
   "codemirror_mode": {
    "name": "ipython",
    "version": 3
   },
   "file_extension": ".py",
   "mimetype": "text/x-python",
   "name": "python",
   "nbconvert_exporter": "python",
   "pygments_lexer": "ipython3",
   "version": "3.10.12"
  }
 },
 "nbformat": 4,
 "nbformat_minor": 5
}
