{
 "cells": [
  {
   "cell_type": "code",
   "execution_count": 1,
   "id": "83198beb-8e91-48bd-9c53-c2c637498b9d",
   "metadata": {},
   "outputs": [],
   "source": [
    "#pip install transformers"
   ]
  },
  {
   "cell_type": "code",
   "execution_count": 2,
   "id": "8a7b646e-88df-4c62-b5d5-de45cc45202c",
   "metadata": {},
   "outputs": [
    {
     "name": "stdout",
     "output_type": "stream",
     "text": [
      "Tokens: ['saya', 'suka', 'makan', 'nasi', 'lemak', 'di', 'pagi', 'hari', 'pelajar', 'sedang', 'belajar', 'di', 'perpustakaan', 'universiti', 'makanan', 'di', 'restoran', 'ini', 'sangat', 'lazat', 'dan', 'murah', 'cuaca', 'hari', 'ini', 'sangat', 'panas', 'dan', 'berangin', 'komputer', 'riba', 'ini', 'pantas', 'tetapi', 'baterinya', 'cepat', 'habis', 'pemandangan', 'di', 'pantai', 'ini', 'sangat', 'cantik', 'pada', 'waktu', 'petang', 'telefon', 'bimbit', 'ini', 'tidak', 'mahal', 'tetapi', 'kualitinya', 'sangat', 'baik', 'kereta', 'itu', 'bergerak', 'perlahan', 'kerana', 'jalan', 'sesak', 'adakah', 'kamu', 'akan', 'datang', 'ke', 'majlis', 'perkahwinan', 'minggu', 'depan', 'saya', 'tidak', 'tahu', 'mengapa', 'dia', 'marah', 'dengan', 'keputusan', 'itu']\n",
      "Lexicon Size: 64\n",
      "Lexicon Coverage: 0.8\n"
     ]
    }
   ],
   "source": [
    "import re\n",
    "from collections import Counter\n",
    "\n",
    "# Dummy data\n",
    "data = [\n",
    "    (1, \"Saya suka makan nasi lemak di pagi hari.\"),\n",
    "    (2, \"Pelajar sedang belajar di perpustakaan universiti.\"),\n",
    "    (3, \"Makanan di restoran ini sangat lazat dan murah!\"),\n",
    "    (4, \"Cuaca hari ini sangat panas dan berangin.\"),\n",
    "    (5, \"Komputer riba ini pantas tetapi baterinya cepat habis.\"),\n",
    "    (6, \"Pemandangan di pantai ini sangat cantik pada waktu petang.\"),\n",
    "    (7, \"Telefon bimbit ini tidak mahal, tetapi kualitinya sangat baik.\"),\n",
    "    (8, \"Kereta itu bergerak perlahan kerana jalan sesak.\"),\n",
    "    (9, \"Adakah kamu akan datang ke majlis perkahwinan minggu depan?\"),\n",
    "    (10, \"Saya tidak tahu mengapa dia marah dengan keputusan itu.\"),\n",
    "]\n",
    "\n",
    "def lexicon_analysis(data):\n",
    "    # Extract the strings from the data\n",
    "    texts = [entry[1] for entry in data]\n",
    "\n",
    "    # Tokenize the strings\n",
    "    tokens = []\n",
    "    for text in texts:\n",
    "        # Split by whitespace and remove non-alphanumeric characters\n",
    "        tokens.extend(re.findall(r'\\b\\w+\\b', text.lower()))\n",
    "\n",
    "    # Calculate lexicon size (number of unique tokens)\n",
    "    unique_tokens = set(tokens)\n",
    "    lexicon_size = len(unique_tokens)\n",
    "\n",
    "    # Calculate total token count\n",
    "    total_tokens = len(tokens)\n",
    "\n",
    "    # Calculate lexicon coverage\n",
    "    lexicon_coverage = lexicon_size / total_tokens if total_tokens > 0 else 0\n",
    "\n",
    "    return {\n",
    "        \"tokens\": tokens,\n",
    "        \"lexicon_size\": lexicon_size,\n",
    "        \"lexicon_coverage\": lexicon_coverage\n",
    "    }\n",
    "        \n",
    "results = lexicon_analysis(data)\n",
    "\n",
    "# Print results\n",
    "print(\"Tokens:\", results[\"tokens\"])\n",
    "print(\"Lexicon Size:\", results[\"lexicon_size\"])\n",
    "print(\"Lexicon Coverage:\", results[\"lexicon_coverage\"])\n",
    "\n",
    "# class name should be LexSizeCoverage\n",
    "# Results obtained from dummy data (interpretation):\n",
    "# Lexicon size: 64 --> means that there are 64 unique words in the lexicon\n",
    "# Lexicon Coverage: 0.8 (80%) --> means 80% of the total words in the dataset are unique\n",
    "#                                 showing a relatively diverse vocabulary with minimal repetition"
   ]
  }
 ],
 "metadata": {
  "kernelspec": {
   "display_name": "Python 3 (ipykernel)",
   "language": "python",
   "name": "python3"
  },
  "language_info": {
   "codemirror_mode": {
    "name": "ipython",
    "version": 3
   },
   "file_extension": ".py",
   "mimetype": "text/x-python",
   "name": "python",
   "nbconvert_exporter": "python",
   "pygments_lexer": "ipython3",
   "version": "3.10.12"
  }
 },
 "nbformat": 4,
 "nbformat_minor": 5
}
