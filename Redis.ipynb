{
 "cells": [
  {
   "cell_type": "code",
   "execution_count": 1,
   "id": "be0d703b-3886-4f19-9936-e023f720a7c1",
   "metadata": {},
   "outputs": [],
   "source": [
    "#pip install redis"
   ]
  },
  {
   "cell_type": "code",
   "execution_count": 2,
   "id": "30e1da06-547c-4e5b-9ebf-d4e7d6a80a3f",
   "metadata": {},
   "outputs": [
    {
     "name": "stdout",
     "output_type": "stream",
     "text": [
      "No new queries were added.\n",
      "Added queries:[]\n",
      "\n",
      "All queries:[{'no.': 1, 'query': 'apple'}, {'no.': 2, 'query': 'orange'}, {'no.': 3, 'query': 'banana'}, {'no.': 4, 'query': 'kiwi'}]\n"
     ]
    }
   ],
   "source": [
    "from PyClasses.Redis.redis_manager import RedisManager\n",
    "\n",
    "rm = RedisManager()\n",
    "    \n",
    "# Key for storing queries\n",
    "node_key = 'my_queries' # WORD node\n",
    "\n",
    "# Add queries from the node specified\n",
    "added_items = rm.add_numbered_query(node_key, [\n",
    "    'apple',\n",
    "    'orange',\n",
    "    'banana',\n",
    "    'kiwi'\n",
    "])\n",
    "print(f\"Added queries:{added_items}\")\n",
    "\n",
    "# List all queries\n",
    "print(f\"\\nAll queries:{rm.query_list(node_key)}\")\n",
    "\n",
    "# Remove a query by number\n",
    "rm.remove_query_by_number(node_key, 1)\n",
    "\n",
    "# Clear database\n",
    "rm.clear_list(node_key)\n",
    "\n",
    "# Retrieve a query by number\n",
    "print(rm.get_query(node_key, 1))\n",
    "\n",
    "# Close connection\n",
    "rm.close()"
   ]
  }
 ],
 "metadata": {
  "kernelspec": {
   "display_name": "Python 3 (ipykernel)",
   "language": "python",
   "name": "python3"
  },
  "language_info": {
   "codemirror_mode": {
    "name": "ipython",
    "version": 3
   },
   "file_extension": ".py",
   "mimetype": "text/x-python",
   "name": "python",
   "nbconvert_exporter": "python",
   "pygments_lexer": "ipython3",
   "version": "3.10.12"
  }
 },
 "nbformat": 4,
 "nbformat_minor": 5
}
