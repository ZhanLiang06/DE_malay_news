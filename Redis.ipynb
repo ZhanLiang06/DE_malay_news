{
 "cells": [
  {
   "cell_type": "code",
   "execution_count": 1,
   "id": "ca2feb10-c347-4be9-8900-bf921b72a7d3",
   "metadata": {},
   "outputs": [
    {
     "name": "stdout",
     "output_type": "stream",
     "text": [
      "=== Lexicon Menu ===\n",
      "[1] Search word or proverb\n",
      "[2] Create new query\n",
      "[3] List all queries\n",
      "[4] Execute queries\n",
      "[0] Exit\n"
     ]
    },
    {
     "name": "stdin",
     "output_type": "stream",
     "text": [
      "\n",
      "Enter your choice (1-3 or 0):  2\n",
      "\n",
      "Type your query here:\n",
      " MATCH (n) DETACH DELETE n\n",
      "Enter a name for this query:  Clear Eerything in Neo4j Database\n"
     ]
    },
    {
     "name": "stdout",
     "output_type": "stream",
     "text": [
      "\n",
      "Query 'Clear Eerything in Neo4j Database' stored successfully!\n",
      "\n",
      "Stored Query Details:\n",
      "Name: Clear Eerything in Neo4j Database\n",
      "Query: MATCH (n) DETACH DELETE n\n",
      "Created at: 2024-12-19T22:53:23.254330\n",
      "=== Lexicon Menu ===\n",
      "[1] Search word or proverb\n",
      "[2] Create new query\n",
      "[3] List all queries\n",
      "[4] Execute queries\n",
      "[0] Exit\n"
     ]
    },
    {
     "name": "stdin",
     "output_type": "stream",
     "text": [
      "\n",
      "Enter your choice (1-3 or 0):  3\n"
     ]
    },
    {
     "name": "stdout",
     "output_type": "stream",
     "text": [
      "\u001b[H\u001b[2J\n",
      "=== Stored Queries ===\n",
      "Page 1 of 1\n",
      "==================================================\n",
      "\n",
      "1. Query Name: Return Everything\n",
      "   Query: MATCH (n) RETURN LIMIT 25\n",
      "   Created: 2024-12-19T17:24:38.357866\n",
      "   Last Used: Never\n",
      "--------------------------------------------------\n",
      "\n",
      "2. Query Name: Peribahasa 1 (Test)\n",
      "   Query: MATCH (n:PERIBAHASA {proverb: 'melentur buluh biarlah dari rebungnya'}) RETURN n\n",
      "   Created: 2024-12-19T21:51:32.199853\n",
      "   Last Used: 2024-12-19T22:34:02.911079\n",
      "--------------------------------------------------\n",
      "\n",
      "3. Query Name: Clear Eerything in Neo4j Database\n",
      "   Query: MATCH (n) DETACH DELETE n\n",
      "   Created: 2024-12-19T22:53:23.254330\n",
      "   Last Used: Never\n",
      "--------------------------------------------------\n",
      "\n",
      "Navigation:\n",
      "→ Next Page (Right Arrow)\n",
      "← Previous Page (Left Arrow)\n",
      "ESC to return to main menu\n",
      "Error: (25, 'Inappropriate ioctl for device')\n"
     ]
    },
    {
     "name": "stdin",
     "output_type": "stream",
     "text": [
      "Press Enter to continue... \n"
     ]
    },
    {
     "name": "stdout",
     "output_type": "stream",
     "text": [
      "=== Lexicon Menu ===\n",
      "[1] Search word or proverb\n",
      "[2] Create new query\n",
      "[3] List all queries\n",
      "[4] Execute queries\n",
      "[0] Exit\n"
     ]
    },
    {
     "name": "stdin",
     "output_type": "stream",
     "text": [
      "\n",
      "Enter your choice (1-3 or 0):  4\n"
     ]
    },
    {
     "name": "stdout",
     "output_type": "stream",
     "text": [
      "\n",
      "=== Available Queries ===\n",
      "==================================================\n",
      "\n",
      "1. Query Name: Peribahasa 1 (Test)\n",
      "   Query: MATCH (n:PERIBAHASA {proverb: 'melentur buluh biarlah dari rebungnya'}) RETURN n\n",
      "   Last Used: 2024-12-19T22:34:02.911079\n",
      "--------------------------------------------------\n",
      "\n",
      "2. Query Name: Return Everything\n",
      "   Query: MATCH (n) RETURN LIMIT 25\n",
      "   Last Used: Never\n",
      "--------------------------------------------------\n",
      "\n",
      "3. Query Name: Clear Eerything in Neo4j Database\n",
      "   Query: MATCH (n) DETACH DELETE n\n",
      "   Last Used: Never\n",
      "--------------------------------------------------\n",
      "\n",
      "Options:\n",
      "Enter the number of the query to execute.\n",
      "Or enter 'q' to return to main menu.\n"
     ]
    },
    {
     "name": "stdin",
     "output_type": "stream",
     "text": [
      "\n",
      "Your choice:  3\n"
     ]
    },
    {
     "name": "stdout",
     "output_type": "stream",
     "text": [
      "\n",
      "Executing query...\n",
      "\n",
      "=== Query Results ===\n",
      "Query Name: Clear Eerything in Neo4j Database\n",
      "==================================================\n",
      "\n",
      "No results found.\n",
      "\n",
      "Total records: 0\n"
     ]
    },
    {
     "name": "stdin",
     "output_type": "stream",
     "text": [
      "\n",
      "Press Enter to continue...\n",
      " \n"
     ]
    },
    {
     "name": "stdout",
     "output_type": "stream",
     "text": [
      "\n",
      "=== Available Queries ===\n",
      "==================================================\n",
      "\n",
      "1. Query Name: Clear Eerything in Neo4j Database\n",
      "   Query: MATCH (n) DETACH DELETE n\n",
      "   Last Used: 2024-12-19T22:54:38.214856\n",
      "--------------------------------------------------\n",
      "\n",
      "2. Query Name: Peribahasa 1 (Test)\n",
      "   Query: MATCH (n:PERIBAHASA {proverb: 'melentur buluh biarlah dari rebungnya'}) RETURN n\n",
      "   Last Used: 2024-12-19T22:34:02.911079\n",
      "--------------------------------------------------\n",
      "\n",
      "3. Query Name: Return Everything\n",
      "   Query: MATCH (n) RETURN LIMIT 25\n",
      "   Last Used: Never\n",
      "--------------------------------------------------\n",
      "\n",
      "Options:\n",
      "Enter the number of the query to execute.\n",
      "Or enter 'q' to return to main menu.\n"
     ]
    },
    {
     "name": "stdin",
     "output_type": "stream",
     "text": [
      "\n",
      "Your choice:  q\n"
     ]
    },
    {
     "name": "stdout",
     "output_type": "stream",
     "text": [
      "=== Lexicon Menu ===\n",
      "[1] Search word or proverb\n",
      "[2] Create new query\n",
      "[3] List all queries\n",
      "[4] Execute queries\n",
      "[0] Exit\n"
     ]
    },
    {
     "name": "stdin",
     "output_type": "stream",
     "text": [
      "\n",
      "Enter your choice (1-3 or 0):  0\n"
     ]
    },
    {
     "name": "stdout",
     "output_type": "stream",
     "text": [
      "\n",
      "Exiting...\n"
     ]
    }
   ],
   "source": [
    "from PyClasses.Redis.lexicon_menu import RedisMenuManager\n",
    "from PyClasses.Neo4j.lexicon_nodes import LexiconNodeManager\n",
    "\n",
    "# Neo4j Database credentials\n",
    "uri = \"neo4j+s://e54149b7.databases.neo4j.io\"\n",
    "auth = (\"neo4j\", \"22jhcQYf6l4mlObbVX61Ju_Kq9Qp10gyyUXuot4iTX0\")\n",
    "\n",
    "# Redis configurations\n",
    "host = 'localhost'\n",
    "port = 6379\n",
    "db = 0\n",
    "\n",
    "# Test functions\n",
    "# word1 = 'emak'\n",
    "#peri1 = 'melentur buluh biarlah dari rebungnya'\n",
    "\n",
    "rmm = RedisMenuManager(uri, auth, host, port, db)\n",
    "# result1 = rmm.search_lexicon(word1)\n",
    "#result2 = rmm.search_lexicon(peri1)\n",
    "#print(result2)\n",
    "# #print(f\"{result1}\\n{result2}\")\n",
    "\n",
    "# x = rmm.display_search_results(result1)\n",
    "# y = rmm.display_search_results(result2)\n",
    "#query = \"MATCH (n:PERIBAHASA {proverb: 'melentur buluh biarlah dari rebungnya'}) RETURN n\"\n",
    "#test = rmm.create_new_query(query)\n",
    "\n",
    "#test = rmm.list_all_queries()\n",
    "\n",
    "#rmm.execute_queries()\n",
    "# Test Main Menu\n",
    "main_menu = rmm.main_menu()"
   ]
  },
  {
   "cell_type": "code",
   "execution_count": null,
   "id": "19ff68e3-a70e-4ed0-9db4-813b4b01cc79",
   "metadata": {},
   "outputs": [],
   "source": []
  }
 ],
 "metadata": {
  "kernelspec": {
   "display_name": "Python 3 (ipykernel)",
   "language": "python",
   "name": "python3"
  },
  "language_info": {
   "codemirror_mode": {
    "name": "ipython",
    "version": 3
   },
   "file_extension": ".py",
   "mimetype": "text/x-python",
   "name": "python",
   "nbconvert_exporter": "python",
   "pygments_lexer": "ipython3",
   "version": "3.10.12"
  }
 },
 "nbformat": 4,
 "nbformat_minor": 5
}
